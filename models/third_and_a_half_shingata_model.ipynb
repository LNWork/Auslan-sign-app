{
  "cells": [
    {
      "cell_type": "markdown",
      "metadata": {
        "id": "view-in-github",
        "colab_type": "text"
      },
      "source": [
        "<a href=\"https://colab.research.google.com/github/LNWork/Auslan-sign-app/blob/Dev/models/third_and_a_half_shingata_model.ipynb\" target=\"_parent\"><img src=\"https://colab.research.google.com/assets/colab-badge.svg\" alt=\"Open In Colab\"/></a>"
      ]
    },
    {
      "cell_type": "code",
      "execution_count": null,
      "metadata": {
        "id": "hQSrXQZ0vS7M"
      },
      "outputs": [],
      "source": [
        "from tensorflow.keras.models import Sequential, load_model\n",
        "from tensorflow.keras.layers import *\n",
        "from tensorflow.keras.utils import to_categorical\n",
        "from tensorflow.keras import layers\n",
        "import tensorflow as tf\n",
        "from matplotlib import pyplot as plt\n",
        "import torch\n",
        "import keras\n",
        "import pandas as pd\n",
        "import numpy as np\n",
        "from sklearn.preprocessing import LabelEncoder\n",
        "from sklearn.model_selection import *\n",
        "from tensorflow.keras.utils import to_categorical\n",
        "from tensorflow.keras.callbacks import EarlyStopping, ModelCheckpoint, ReduceLROnPlateau, TensorBoard\n",
        "import glob\n",
        "import json\n",
        "import time\n",
        "import zipfile\n",
        "from concurrent.futures import ProcessPoolExecutor, as_completed\n",
        "from sklearn.utils.class_weight import compute_class_weight\n",
        "from tensorflow.keras.preprocessing.sequence import pad_sequences\n",
        "import seaborn as sns\n",
        "from sklearn.metrics import confusion_matrix\n"
      ]
    },
    {
      "cell_type": "code",
      "execution_count": null,
      "metadata": {
        "colab": {
          "base_uri": "https://localhost:8080/"
        },
        "id": "9lKtaaoHyqFz",
        "outputId": "93a472cd-d94c-4f79-c89b-7f3ae88e1e45"
      },
      "outputs": [
        {
          "name": "stdout",
          "output_type": "stream",
          "text": [
            "Mounted at /content/gdrive\n"
          ]
        }
      ],
      "source": [
        "from google.colab import drive\n",
        "drive.mount('/content/gdrive')"
      ]
    },
    {
      "cell_type": "code",
      "execution_count": null,
      "metadata": {
        "id": "sYgWDexky2JZ"
      },
      "outputs": [],
      "source": [
        "SSD_PATH = '/content/gdrive/MyDrive/Auslan App/Data'"
      ]
    },
    {
      "cell_type": "code",
      "execution_count": null,
      "metadata": {
        "colab": {
          "base_uri": "https://localhost:8080/",
          "height": 55
        },
        "id": "wkZiEBHOy2gp",
        "outputId": "b44d3b18-32bb-4728-9830-a7d62598754d"
      },
      "outputs": [
        {
          "name": "stdout",
          "output_type": "stream",
          "text": [
            "/content/gdrive/MyDrive/Auslan App/Data\n"
          ]
        },
        {
          "data": {
            "application/vnd.google.colaboratory.intrinsic+json": {
              "type": "string"
            },
            "text/plain": [
              "'/content/gdrive/MyDrive/Auslan App/Data'"
            ]
          },
          "execution_count": 4,
          "metadata": {},
          "output_type": "execute_result"
        }
      ],
      "source": [
        "%cd $SSD_PATH\n",
        "%pwd"
      ]
    },
    {
      "cell_type": "code",
      "execution_count": null,
      "metadata": {
        "id": "pE9AE7mR0T2x"
      },
      "outputs": [],
      "source": [
        "import re\n",
        "# test test test\n",
        "\n",
        "def check_list_contained(A, B):\n",
        "  # convert list A to string\n",
        "    A_str = ' '.join(map(str, A))\n",
        "    # convert list B to string\n",
        "    B_str = ' '.join(map(str, B))\n",
        "    # find all instances of A within B\n",
        "    instances = re.findall(A_str, B_str)\n",
        "\n",
        "    # return True if any instances were found, False otherwise\n",
        "    return len(instances) > 0\n"
      ]
    },
    {
      "cell_type": "code",
      "execution_count": null,
      "metadata": {
        "id": "FJV6CO8iZord"
      },
      "outputs": [],
      "source": [
        "# !unzip -u json_keypoints_shaky.zip -d /jsonFolder"
      ]
    },
    {
      "cell_type": "code",
      "execution_count": null,
      "metadata": {
        "id": "qB2yZ5no56rV"
      },
      "outputs": [],
      "source": [
        "\n",
        "def normalize_keypoints(data):\n",
        "    normalized_data = []\n",
        "\n",
        "    count = 0\n",
        "    for sequence in data:\n",
        "        if count % 500 == 0:\n",
        "            print(count)\n",
        "        count += 1\n",
        "        if sequence.size == 0:\n",
        "            # Handle empty sequences if necessary\n",
        "            normalized_data.append(sequence)  # Or use np.zeros if you prefer\n",
        "            continue\n",
        "\n",
        "        coords = sequence[..., :3]  # Extract x, y, z coordinates\n",
        "        # Min values across frames\n",
        "        min_vals = np.min(coords, axis=(0, 1), keepdims=True)\n",
        "        # Max values across frames\n",
        "        max_vals = np.max(coords, axis=(0, 1), keepdims=True)\n",
        "\n",
        "        # Normalize the coordinates\n",
        "        normalized_coords = (coords - min_vals) / (max_vals - min_vals + 1e-8)\n",
        "\n",
        "        # Create a new array for the normalized sequence\n",
        "        normalized_sequence = sequence.copy()\n",
        "        # Replace x, y, z with normalized values\n",
        "        normalized_sequence[..., :3] = normalized_coords\n",
        "        normalized_data.append(normalized_sequence)\n",
        "\n",
        "    return normalized_data\n",
        "\n",
        "\n",
        "def get_gloss_label(file_name, isosignsDF, singlewordDF):\n",
        "    # Check if the file name starts with a digit to determine which DataFrame to use\n",
        "    file_name = file_name.split(\"/\")[-1]\n",
        "    if 'video_64_147_1' in file_name or 'video_64_147_1_signer_keypoints' in file_name:\n",
        "        return 'right'\n",
        "\n",
        "    if file_name[0].isdigit():\n",
        "        # Extract Video_ID from the filename\n",
        "        video_id = file_name.split('_')[0]\n",
        "        # Retrieve the row from the isosigns DataFrame based on Video_ID\n",
        "        gloss_row = isosignsDF.loc[isosignsDF['Video_ID'] == int(video_id)]\n",
        "    else:\n",
        "        # Extract Video_Clip_Name from the filename\n",
        "        video_clip_name = '_'.join(file_name.split('_')[:3])\n",
        "        # Retrieve the row from the singleword DataFrame based on Video_Clip_Name\n",
        "        gloss_row = singlewordDF.loc[singlewordDF['Video_Clip_Name']\n",
        "                                     == video_clip_name]\n",
        "\n",
        "    # Check if a match was found and return the Gloss value\n",
        "    if not gloss_row.empty:\n",
        "        # Note the capitalization of 'Gloss'\n",
        "        return gloss_row['Gloss'].values[0]\n",
        "    else:\n",
        "        return None\n",
        "\n",
        "\n",
        "def process_file(file):\n",
        "    # print(f\"Processing {file}\")\n",
        "    largestFrames = 0\n",
        "    xData = []\n",
        "    yData = []\n",
        "\n",
        "    with open(file, 'r') as f:\n",
        "        d = f.read()\n",
        "        vidData = json.loads(d)\n",
        "\n",
        "        data = []\n",
        "        for frame in vidData:\n",
        "            if 'data' not in frame.keys():\n",
        "                continue\n",
        "\n",
        "            fData = pd.DataFrame(frame['data'])\n",
        "            data.append(fData)\n",
        "\n",
        "        if len(data) == 0:\n",
        "            return None, None, largestFrames\n",
        "\n",
        "        combinedDF = pd.concat(data, ignore_index=True)\n",
        "        reshapedData = combinedDF.values.reshape((len(data), 75, 4))\n",
        "        largestFrames = max(largestFrames, len(data))\n",
        "\n",
        "        word = get_gloss_label(file, isosignsDF, singlewordDF)\n",
        "\n",
        "        # Handle missing gloss\n",
        "        if word is None:\n",
        "            print(f\"Warning: No gloss label found for {file}\")\n",
        "            return None, None, largestFrames\n",
        "\n",
        "        xData.append(reshapedData)\n",
        "        yData.append(word)\n",
        "\n",
        "    return xData, yData, largestFrames\n",
        "\n",
        "def get_class_weights(y_train, num_classes):\n",
        "  class_weights = compute_class_weight(class_weight='balanced',\n",
        "                                        classes=np.arange(num_classes),\n",
        "                                        y=y_train)  # No need for np.argmax since y_train is integer labels\n",
        "  return dict(enumerate(class_weights))"
      ]
    },
    {
      "cell_type": "code",
      "execution_count": null,
      "metadata": {
        "id": "t-EI6lwuNiy4"
      },
      "outputs": [],
      "source": [
        "def get_class_weights(y_train, num_classes):\n",
        "  class_weights = compute_class_weight(class_weight='balanced',\n",
        "                                        classes=np.arange(num_classes),\n",
        "                                        y=y_train)  # No need for np.argmax since y_train is integer labels\n",
        "  return dict(enumerate(class_weights))"
      ]
    },
    {
      "cell_type": "code",
      "execution_count": null,
      "metadata": {
        "colab": {
          "base_uri": "https://localhost:8080/"
        },
        "id": "Oqf1ff0t0L9D",
        "outputId": "1af133ab-e3a9-40fc-e6f3-951ffe14359c"
      },
      "outputs": [
        {
          "name": "stdout",
          "output_type": "stream",
          "text": [
            "Class weights: {0: 1.0590325018896447, 1: 0.6354195011337869, 2: 1.3616132167152575, 3: 1.0590325018896447, 4: 1.121328531412565, 5: 0.9531292517006803, 6: 0.6354195011337869, 7: 1.3616132167152575, 8: 1.3616132167152575, 9: 1.121328531412565, 10: 1.1914115646258503, 11: 0.6573305184142623, 12: 0.7625034013605442, 13: 0.8664811379097094, 14: 0.9531292517006803, 15: 1.1914115646258503, 16: 0.7331763474620617, 17: 1.3616132167152575, 18: 0.9531292517006803, 19: 1.3616132167152575, 20: 0.7331763474620617, 21: 1.1914115646258503, 22: 0.9531292517006803, 23: 1.3616132167152575, 24: 0.7942743764172335, 25: 1.0590325018896447, 26: 1.0590325018896447, 27: 1.1914115646258503, 28: 0.6149220978714066, 29: 0.9077421444768383, 30: 0.7625034013605442, 31: 1.0590325018896447, 32: 1.0590325018896447, 33: 0.9531292517006803, 34: 2.723226433430515, 35: 1.2708390022675737, 36: 1.3616132167152575, 37: 0.7060216679264298, 38: 0.9531292517006803, 39: 1.0032939491586108, 40: 1.0032939491586108, 41: 0.8664811379097094, 42: 0.6808066083576287, 43: 1.1914115646258503, 44: 0.9531292517006803, 45: 1.3616132167152575, 46: 1.0032939491586108, 47: 1.0590325018896447, 48: 1.0590325018896447, 49: 0.6149220978714066, 50: 0.7060216679264298, 51: 0.8664811379097094, 52: 0.8288080449571132, 53: 0.7625034013605442, 54: 1.4663526949241235, 55: 0.6808066083576287, 56: 1.0590325018896447, 57: 1.0590325018896447, 58: 0.6573305184142623, 59: 0.7331763474620617, 60: 0.7625034013605442, 61: 1.3616132167152575, 62: 0.7331763474620617, 63: 1.0590325018896447, 64: 1.588548752834467, 65: 0.7625034013605442, 66: 1.588548752834467, 67: 0.9531292517006803, 68: 1.588548752834467, 69: 1.3616132167152575, 70: 1.1914115646258503, 71: 1.121328531412565, 72: 0.9531292517006803, 73: 0.7625034013605442, 74: 1.0032939491586108, 75: 0.9531292517006803, 76: 0.6808066083576287, 77: 0.8664811379097094, 78: 0.7942743764172335, 79: 0.9077421444768383, 80: 0.8664811379097094, 81: 1.121328531412565, 82: 1.0590325018896447, 83: 1.121328531412565, 84: 0.8664811379097094, 85: 0.6808066083576287, 86: 0.8664811379097094, 87: 1.121328531412565, 88: 1.0032939491586108, 89: 0.7331763474620617, 90: 0.7625034013605442, 91: 0.9531292517006803, 92: 0.8288080449571132, 93: 1.0590325018896447, 94: 1.7329622758194188, 95: 1.0590325018896447, 96: 0.8664811379097094, 97: 0.6354195011337869, 98: 1.1914115646258503, 99: 1.3616132167152575, 100: 0.8288080449571132, 101: 0.7942743764172335, 102: 0.7942743764172335, 103: 1.1914115646258503, 104: 0.5776540919398062, 105: 0.6573305184142623, 106: 1.3616132167152575, 107: 0.7060216679264298, 108: 0.9077421444768383, 109: 0.6354195011337869, 110: 0.7625034013605442, 111: 1.121328531412565, 112: 0.7625034013605442, 113: 1.0590325018896447, 114: 1.0032939491586108, 115: 0.8288080449571132, 116: 0.7942743764172335, 117: 1.588548752834467, 118: 0.8664811379097094, 119: 1.0590325018896447, 120: 1.1914115646258503, 121: 1.4663526949241235, 122: 1.1914115646258503, 123: 1.3616132167152575, 124: 0.7331763474620617, 125: 1.1914115646258503, 126: 0.8664811379097094, 127: 1.588548752834467, 128: 1.0590325018896447, 129: 0.6573305184142623, 130: 1.588548752834467, 131: 0.8664811379097094, 132: 0.6354195011337869, 133: 0.6149220978714066, 134: 0.6808066083576287, 135: 1.0032939491586108, 136: 1.0590325018896447, 137: 1.1914115646258503, 138: 1.121328531412565, 139: 1.4663526949241235, 140: 0.5776540919398062, 141: 1.1914115646258503, 142: 0.544645286686103, 143: 1.9062585034013606, 144: 1.3616132167152575, 145: 1.0590325018896447, 146: 1.3616132167152575, 147: 0.9531292517006803, 148: 1.3616132167152575, 149: 1.121328531412565, 150: 2.723226433430515, 151: 1.0590325018896447, 152: 0.7942743764172335, 153: 0.8664811379097094, 154: 1.2708390022675737, 155: 1.1914115646258503, 156: 1.0590325018896447, 157: 1.0590325018896447, 158: 1.3616132167152575, 159: 0.8288080449571132, 160: 1.3616132167152575, 161: 0.6808066083576287, 162: 0.8664811379097094, 163: 1.0590325018896447, 164: 1.4663526949241235, 165: 1.0032939491586108, 166: 2.3828231292517006, 167: 0.7331763474620617, 168: 1.588548752834467, 169: 1.1914115646258503, 170: 0.7942743764172335, 171: 1.3616132167152575, 172: 1.7329622758194188, 173: 0.5776540919398062, 174: 0.6573305184142623, 175: 1.4663526949241235, 176: 1.121328531412565, 177: 0.8664811379097094, 178: 2.3828231292517006, 179: 0.7060216679264298, 180: 1.1914115646258503, 181: 1.0032939491586108, 182: 0.7331763474620617, 183: 1.0590325018896447, 184: 1.4663526949241235, 185: 1.588548752834467, 186: 0.9531292517006803, 187: 1.1914115646258503, 188: 0.7331763474620617, 189: 1.7329622758194188, 190: 0.8664811379097094, 191: 1.0590325018896447, 192: 0.9077421444768383, 193: 1.2708390022675737, 194: 0.9531292517006803, 195: 1.0590325018896447, 196: 1.3616132167152575, 197: 0.8288080449571132, 198: 1.0590325018896447, 199: 0.9077421444768383, 200: 1.3616132167152575, 201: 1.0590325018896447, 202: 1.588548752834467, 203: 1.0032939491586108, 204: 0.9077421444768383, 205: 0.7331763474620617, 206: 1.3616132167152575, 207: 1.0590325018896447, 208: 1.4663526949241235, 209: 1.3616132167152575, 210: 1.0590325018896447, 211: 1.2708390022675737, 212: 1.9062585034013606, 213: 1.1914115646258503, 214: 0.6808066083576287, 215: 1.588548752834467, 216: 1.0590325018896447, 217: 0.7331763474620617, 218: 1.4663526949241235, 219: 0.8288080449571132, 220: 1.588548752834467, 221: 0.6149220978714066, 222: 0.9077421444768383, 223: 1.0032939491586108, 224: 1.1914115646258503, 225: 0.8288080449571132, 226: 0.8664811379097094, 227: 1.3616132167152575, 228: 1.3616132167152575, 229: 1.7329622758194188, 230: 1.4663526949241235, 231: 0.6808066083576287, 232: 0.9531292517006803, 233: 1.0032939491586108, 234: 1.0590325018896447, 235: 0.9531292517006803, 236: 0.544645286686103, 237: 0.8664811379097094, 238: 1.2708390022675737, 239: 0.5016469745793054, 240: 0.9077421444768383, 241: 1.7329622758194188, 242: 1.0032939491586108, 243: 1.121328531412565, 244: 1.0590325018896447, 245: 0.7625034013605442, 246: 1.2708390022675737, 247: 1.1914115646258503, 248: 0.7942743764172335, 249: 1.3616132167152575, 250: 0.9531292517006803, 251: 0.8288080449571132, 252: 1.9062585034013606, 253: 0.9077421444768383, 254: 0.9531292517006803, 255: 1.3616132167152575, 256: 1.1914115646258503, 257: 0.5152050009192867, 258: 2.723226433430515, 259: 1.3616132167152575, 260: 1.0590325018896447, 261: 1.3616132167152575, 262: 0.7331763474620617, 263: 1.3616132167152575, 264: 1.0590325018896447, 265: 1.7329622758194188, 266: 1.9062585034013606, 267: 0.7331763474620617, 268: 1.1914115646258503, 269: 0.8664811379097094, 270: 0.5776540919398062, 271: 1.2708390022675737, 272: 1.3616132167152575, 273: 1.0590325018896447, 274: 0.7331763474620617, 275: 1.588548752834467, 276: 0.4236130007558579, 277: 1.121328531412565, 278: 1.2708390022675737, 279: 0.8664811379097094, 280: 0.9531292517006803, 281: 1.0590325018896447, 282: 1.0590325018896447, 283: 1.0590325018896447, 284: 0.8664811379097094, 285: 0.6149220978714066, 286: 0.8288080449571132, 287: 1.121328531412565, 288: 1.0590325018896447, 289: 0.8288080449571132, 290: 0.8664811379097094, 291: 1.0590325018896447, 292: 0.7331763474620617, 293: 0.6354195011337869, 294: 0.7331763474620617, 295: 1.0032939491586108, 296: 0.6573305184142623, 297: 0.9531292517006803, 298: 0.8288080449571132, 299: 1.0590325018896447, 300: 1.1914115646258503, 301: 1.3616132167152575, 302: 0.6354195011337869, 303: 0.7331763474620617, 304: 0.5606642657062825, 305: 0.7942743764172335, 306: 0.9531292517006803, 307: 1.4663526949241235, 308: 0.7060216679264298, 309: 0.9531292517006803, 310: 1.9062585034013606, 311: 3.177097505668934, 312: 0.6354195011337869, 313: 0.8664811379097094, 314: 1.9062585034013606, 315: 2.1180650037792894, 316: 0.9531292517006803, 317: 0.7331763474620617, 318: 1.3616132167152575, 319: 1.4663526949241235, 320: 1.0590325018896447, 321: 0.7625034013605442, 322: 1.3616132167152575, 323: 1.1914115646258503, 324: 1.0590325018896447, 325: 1.0590325018896447, 326: 1.4663526949241235, 327: 1.3616132167152575, 328: 1.3616132167152575, 329: 1.1914115646258503, 330: 0.8664811379097094, 331: 2.3828231292517006, 332: 0.7942743764172335, 333: 0.7942743764172335, 334: 1.0590325018896447, 335: 0.9077421444768383, 336: 0.9077421444768383, 337: 1.1914115646258503, 338: 0.6808066083576287, 339: 1.0590325018896447, 340: 1.3616132167152575, 341: 0.6573305184142623, 342: 1.0590325018896447, 343: 1.121328531412565, 344: 0.5295162509448224, 345: 0.8664811379097094, 346: 2.3828231292517006, 347: 1.3616132167152575, 348: 0.7942743764172335, 349: 1.1914115646258503, 350: 0.6573305184142623, 351: 0.8664811379097094, 352: 0.9077421444768383, 353: 0.7331763474620617, 354: 1.2708390022675737, 355: 0.8664811379097094, 356: 0.8664811379097094, 357: 1.7329622758194188, 358: 1.588548752834467, 359: 0.9077421444768383, 360: 1.1914115646258503, 361: 1.2708390022675737, 362: 0.6149220978714066, 363: 0.7625034013605442, 364: 1.2708390022675737, 365: 1.0590325018896447, 366: 1.0590325018896447, 367: 1.2708390022675737, 368: 0.9531292517006803, 369: 1.3616132167152575, 370: 1.0590325018896447, 371: 1.0590325018896447, 372: 0.9077421444768383, 373: 1.0032939491586108, 374: 1.0590325018896447, 375: 1.588548752834467, 376: 1.4663526949241235, 377: 0.6573305184142623, 378: 0.6808066083576287, 379: 0.8288080449571132, 380: 0.5606642657062825, 381: 1.4663526949241235, 382: 1.3616132167152575, 383: 1.3616132167152575, 384: 0.7331763474620617, 385: 1.3616132167152575, 386: 1.0032939491586108, 387: 0.9531292517006803, 388: 1.0590325018896447, 389: 3.812517006802721, 390: 1.3616132167152575, 391: 1.7329622758194188, 392: 1.2708390022675737, 393: 0.9077421444768383, 394: 1.588548752834467, 395: 1.0590325018896447, 396: 1.2708390022675737, 397: 1.3616132167152575, 398: 1.1914115646258503, 399: 1.588548752834467, 400: 1.588548752834467, 401: 0.6808066083576287, 402: 1.0590325018896447, 403: 1.121328531412565, 404: 0.6573305184142623, 405: 2.3828231292517006, 406: 1.3616132167152575, 407: 0.7625034013605442, 408: 0.6149220978714066, 409: 1.1914115646258503, 410: 1.0590325018896447, 411: 0.7060216679264298, 412: 1.0590325018896447, 413: 1.588548752834467, 414: 1.4663526949241235, 415: 1.0590325018896447, 416: 1.588548752834467, 417: 0.9077421444768383, 418: 1.9062585034013606, 419: 1.3616132167152575, 420: 0.9077421444768383, 421: 0.7942743764172335, 422: 1.3616132167152575, 423: 0.8664811379097094, 424: 1.2708390022675737, 425: 0.6149220978714066, 426: 1.121328531412565, 427: 1.3616132167152575, 428: 1.121328531412565, 429: 0.6573305184142623, 430: 1.588548752834467, 431: 1.0590325018896447, 432: 1.1914115646258503, 433: 0.9077421444768383, 434: 0.7331763474620617, 435: 0.8664811379097094, 436: 1.3616132167152575, 437: 0.7331763474620617, 438: 0.6808066083576287, 439: 1.121328531412565, 440: 0.6149220978714066, 441: 1.3616132167152575, 442: 1.121328531412565, 443: 0.6808066083576287, 444: 1.2708390022675737, 445: 1.0590325018896447, 446: 1.1914115646258503, 447: 1.0032939491586108, 448: 1.0032939491586108, 449: 0.8664811379097094, 450: 0.6573305184142623, 451: 1.4663526949241235, 452: 0.5957057823129251, 453: 1.121328531412565, 454: 0.6149220978714066, 455: 1.2708390022675737, 456: 1.0032939491586108, 457: 1.3616132167152575, 458: 1.121328531412565, 459: 1.4663526949241235, 460: 1.9062585034013606, 461: 0.7331763474620617, 462: 1.0590325018896447, 463: 1.121328531412565, 464: 1.0590325018896447, 465: 1.1914115646258503, 466: 1.2708390022675737, 467: 1.588548752834467, 468: 1.0590325018896447, 469: 0.7331763474620617, 470: 0.7625034013605442, 471: 1.3616132167152575, 472: 1.588548752834467, 473: 0.7331763474620617, 474: 0.7060216679264298, 475: 1.4663526949241235, 476: 1.7329622758194188, 477: 0.6354195011337869, 478: 1.0032939491586108, 479: 0.6354195011337869, 480: 1.0590325018896447, 481: 0.9077421444768383, 482: 1.3616132167152575, 483: 1.0590325018896447, 484: 1.1914115646258503, 485: 1.0032939491586108, 486: 0.7060216679264298, 487: 1.0590325018896447, 488: 1.588548752834467, 489: 0.6808066083576287, 490: 1.2708390022675737, 491: 1.0590325018896447, 492: 1.0590325018896447, 493: 0.7331763474620617, 494: 1.588548752834467, 495: 0.8664811379097094, 496: 1.2708390022675737, 497: 1.0590325018896447, 498: 0.7625034013605442, 499: 0.8288080449571132, 500: 1.3616132167152575, 501: 1.121328531412565, 502: 0.8288080449571132, 503: 0.8288080449571132, 504: 1.0590325018896447, 505: 0.5606642657062825, 506: 0.6573305184142623, 507: 0.8288080449571132, 508: 1.1914115646258503, 509: 1.0590325018896447, 510: 1.1914115646258503, 511: 1.9062585034013606, 512: 1.0590325018896447, 513: 0.8664811379097094, 514: 1.0032939491586108, 515: 0.7331763474620617, 516: 1.0590325018896447, 517: 1.3616132167152575, 518: 0.7625034013605442, 519: 1.4663526949241235, 520: 0.5776540919398062, 521: 1.9062585034013606, 522: 0.9077421444768383, 523: 1.0032939491586108, 524: 1.0590325018896447, 525: 1.3616132167152575, 526: 0.8664811379097094, 527: 1.0032939491586108, 528: 0.544645286686103, 529: 0.7331763474620617, 530: 1.588548752834467, 531: 1.4663526949241235, 532: 0.9077421444768383, 533: 0.7942743764172335, 534: 0.7060216679264298, 535: 0.7060216679264298, 536: 0.7331763474620617, 537: 1.121328531412565, 538: 1.121328531412565, 539: 1.0032939491586108, 540: 0.9531292517006803, 541: 0.9077421444768383, 542: 1.588548752834467, 543: 1.1914115646258503, 544: 1.9062585034013606, 545: 1.0032939491586108, 546: 1.3616132167152575, 547: 0.9531292517006803, 548: 1.4663526949241235, 549: 1.3616132167152575, 550: 0.8664811379097094, 551: 0.7331763474620617, 552: 0.9531292517006803, 553: 0.7331763474620617, 554: 1.9062585034013606, 555: 0.8288080449571132, 556: 0.8664811379097094, 557: 0.8288080449571132, 558: 1.4663526949241235, 559: 1.9062585034013606, 560: 1.7329622758194188, 561: 0.8664811379097094, 562: 0.8288080449571132, 563: 0.7060216679264298, 564: 1.0032939491586108, 565: 1.1914115646258503, 566: 1.121328531412565, 567: 0.8288080449571132, 568: 1.0590325018896447, 569: 0.7060216679264298, 570: 0.7060216679264298, 571: 1.4663526949241235, 572: 0.8288080449571132, 573: 1.1914115646258503, 574: 1.3616132167152575, 575: 0.7331763474620617, 576: 0.8288080449571132, 577: 1.121328531412565, 578: 1.0032939491586108, 579: 1.1914115646258503, 580: 0.9531292517006803, 581: 1.9062585034013606, 582: 0.5606642657062825, 583: 0.8288080449571132, 584: 0.7942743764172335, 585: 1.121328531412565, 586: 1.2708390022675737, 587: 2.1180650037792894, 588: 0.7942743764172335, 589: 0.8664811379097094, 590: 1.3616132167152575, 591: 0.8664811379097094, 592: 1.121328531412565, 593: 0.8288080449571132, 594: 1.0590325018896447, 595: 0.6808066083576287, 596: 0.7942743764172335, 597: 0.9531292517006803, 598: 1.588548752834467, 599: 2.723226433430515, 600: 1.0032939491586108, 601: 0.6354195011337869, 602: 0.9077421444768383, 603: 1.0590325018896447, 604: 1.121328531412565, 605: 1.121328531412565, 606: 0.5776540919398062, 607: 0.9077421444768383, 608: 1.0032939491586108, 609: 1.3616132167152575, 610: 1.7329622758194188, 611: 1.3616132167152575, 612: 0.7331763474620617, 613: 1.0590325018896447, 614: 1.3616132167152575, 615: 2.723226433430515, 616: 1.3616132167152575, 617: 0.8664811379097094, 618: 1.3616132167152575, 619: 0.7942743764172335, 620: 0.5957057823129251, 621: 1.3616132167152575, 622: 1.0590325018896447, 623: 0.9531292517006803, 624: 1.0032939491586108, 625: 1.588548752834467, 626: 0.8664811379097094, 627: 1.3616132167152575, 628: 1.588548752834467, 629: 1.2708390022675737, 630: 1.588548752834467, 631: 1.121328531412565, 632: 1.1914115646258503, 633: 0.9531292517006803, 634: 1.2708390022675737, 635: 1.3616132167152575, 636: 1.588548752834467, 637: 1.2708390022675737, 638: 0.9077421444768383, 639: 1.3616132167152575, 640: 1.3616132167152575, 641: 0.8288080449571132, 642: 0.5606642657062825, 643: 1.7329622758194188, 644: 1.9062585034013606, 645: 0.9531292517006803, 646: 1.588548752834467, 647: 1.0032939491586108, 648: 1.0032939491586108, 649: 1.588548752834467, 650: 1.0032939491586108, 651: 0.7625034013605442, 652: 1.2708390022675737, 653: 0.7331763474620617, 654: 1.2708390022675737, 655: 0.7331763474620617, 656: 0.9077421444768383, 657: 1.3616132167152575, 658: 0.7331763474620617, 659: 0.6808066083576287, 660: 1.3616132167152575, 661: 1.121328531412565, 662: 1.3616132167152575, 663: 1.9062585034013606, 664: 0.7060216679264298, 665: 1.0590325018896447, 666: 1.0590325018896447, 667: 1.4663526949241235, 668: 1.588548752834467, 669: 1.1914115646258503, 670: 9.531292517006802, 671: 1.3616132167152575, 672: 1.121328531412565, 673: 1.0590325018896447, 674: 0.7060216679264298, 675: 0.8664811379097094, 676: 1.3616132167152575, 677: 1.588548752834467, 678: 0.8664811379097094, 679: 0.7625034013605442, 680: 1.0590325018896447, 681: 1.0032939491586108, 682: 1.3616132167152575, 683: 1.7329622758194188, 684: 1.1914115646258503, 685: 1.7329622758194188, 686: 0.7942743764172335, 687: 1.3616132167152575, 688: 1.0590325018896447, 689: 1.1914115646258503, 690: 0.9531292517006803, 691: 1.0032939491586108, 692: 1.9062585034013606, 693: 0.7625034013605442, 694: 1.2708390022675737, 695: 1.0590325018896447, 696: 1.2708390022675737, 697: 1.0590325018896447, 698: 1.3616132167152575, 699: 2.3828231292517006, 700: 0.5957057823129251, 701: 1.121328531412565, 702: 1.588548752834467, 703: 0.7060216679264298, 704: 1.7329622758194188, 705: 0.5776540919398062, 706: 2.1180650037792894, 707: 1.0032939491586108, 708: 0.9531292517006803, 709: 1.0032939491586108, 710: 1.0590325018896447, 711: 0.6354195011337869, 712: 1.9062585034013606, 713: 1.3616132167152575, 714: 1.1914115646258503, 715: 2.723226433430515, 716: 4.765646258503401, 717: 1.1914115646258503, 718: 1.1914115646258503, 719: 0.8664811379097094, 720: 0.8288080449571132, 721: 0.9531292517006803, 722: 1.0590325018896447, 723: 1.0590325018896447, 724: 0.7942743764172335, 725: 1.0590325018896447, 726: 0.9531292517006803, 727: 1.3616132167152575, 728: 0.8664811379097094, 729: 1.588548752834467, 730: 1.1914115646258503, 731: 1.3616132167152575, 732: 1.588548752834467, 733: 1.0590325018896447, 734: 1.0590325018896447}\n"
          ]
        }
      ],
      "source": [
        "# CHANGE HERE TO IMPORT OR SAVE\n",
        "saved = True\n",
        "if saved:\n",
        "  data = np.load('reduced_normalized_data5.npz', allow_pickle=True)\n",
        "  xData_padded = data['xData']\n",
        "  # xData_padded = xData_padded.reshape((xData_padded.shape[0], xData_padded.shape[1], xData_padded.shape[2], 4, 1))\n",
        "  y_mapped = data['yData']\n",
        "  x_train, x_test, y_train, y_test = train_test_split(xData_padded, y_mapped, test_size=0.2, stratify=y_mapped, random_state=42)\n",
        "  num_classes = len(np.unique(y_train))\n",
        "  class_weights = get_class_weights(y_train, num_classes)\n",
        "  print(f\"Class weights: {class_weights}\")\n",
        "\n",
        "else:\n",
        "  # Load the DataFrames outside of the function\n",
        "  isosignsDF = pd.read_excel('datasignlist.xlsx', sheet_name='IsoSigns', usecols=\"B:D\")\n",
        "  singlewordDF = pd.read_excel('datasignlist.xlsx', sheet_name='SingleWord', usecols=\"B:D\")\n",
        "\n",
        "  # Path to the folder containing the JSON files\n",
        "  files = glob.glob('/jsonFolder/json_keypoints/*')\n",
        "  count = 0\n",
        "\n",
        "  xData = []\n",
        "  yData = []\n",
        "  largestFrames = 0\n",
        "\n",
        "  start = time.time()\n",
        "  count = 0\n",
        "\n",
        "  # Create a ProcessPoolExecutor for parallel processing\n",
        "  with ProcessPoolExecutor(max_workers=8) as executor:\n",
        "    # Use a list comprehension to submit the processing of each file\n",
        "    futures = {executor.submit(\n",
        "        process_file, file_name): file_name for file_name in files}\n",
        "\n",
        "    for future in futures:\n",
        "        reshaped_data, label, maxFrames = future.result()\n",
        "        if reshaped_data is not None and label is not None:\n",
        "            # Extend instead of append to flatten the structure\n",
        "            xData.extend(reshaped_data)\n",
        "            yData.append(label)\n",
        "            largestFrames = max(largestFrames, maxFrames)\n",
        "\n",
        "        if count % 500 == 0:\n",
        "            print(count)\n",
        "            # print(time.time()-start)\n",
        "        count += 1\n",
        "\n",
        "    xData = np.array(xData, dtype=object)\n",
        "    yData = np.array(yData, dtype=object)\n",
        "\n",
        "    # x_train, x_test, y_train, y_test = train_test_split(\n",
        "    #     xData, yData, test_size=0.2, stratify=yData, random_state=42)\n",
        "\n",
        "    # print(\"Train samples:\", len(x_train), \"Test samples:\", len(x_test))\n",
        "    print(\"Largest frames:\", largestFrames)\n",
        "    print(\"Time taken:\", time.time() - start)\n",
        "\n",
        "    np.savez_compressed('processed_data.npz', xData=xData, yData=yData)\n",
        "    max_length = 145\n",
        "    data = np.load('processed_data.npz', allow_pickle=True)\n",
        "\n",
        "    print(len(data['xData']))\n",
        "    xData = data['xData']\n",
        "    yData = data['yData']\n",
        "    print(xData.shape, yData.shape)\n",
        "    print(xData[0].shape)\n",
        "    print(yData[1])\n",
        "    print(yData[2222])\n",
        "    print(f\"Unique labels in yData: {np.unique(yData)}\")\n",
        "    print(f\"Number of unique labels: {len(np.unique(yData))}\")\n",
        "    xData_normalized = normalize_keypoints(xData)\n",
        "\n",
        "    # Convert each element of yData to a hashable type (e.g., string)\n",
        "    yData_str = [str(label) if isinstance(label, np.ndarray)\n",
        "                 else label for label in yData]\n",
        "\n",
        "    print(len(yData_str))\n",
        "\n",
        "    # Get unique classes\n",
        "    # Ensure the labels are hashable\n",
        "    unique_classes = sorted(list(set(yData_str)))\n",
        "    print(unique_classes)\n",
        "\n",
        "    # Create a mapping from label to class index\n",
        "    label_to_class_index = {label: idx for idx,\n",
        "                            label in enumerate(unique_classes)}\n",
        "    print(len(label_to_class_index))\n",
        "\n",
        "    # Map yData to class indices\n",
        "    y_mapped = [label_to_class_index[label] for label in yData_str]\n",
        "    print(f\"Number of unique classes: {len(np.unique(y_mapped))}\")\n",
        "\n",
        "    xData_padded = pad_sequences(\n",
        "        xData_normalized, maxlen=max_length, dtype='float32', padding='post', truncating='post')\n",
        "\n",
        "    np.savez('normalized_data.npz',\n",
        "             xData_padded=xData_padded, y_mapped=y_mapped)\n",
        "\n",
        "    print(f\"Number of unique classes: {len(unique_classes)}\")\n",
        "    x_train, x_test, y_train, y_test = train_test_split(xData_padded, y_mapped, test_size=0.2, stratify=y_mapped, random_state=42)\n",
        "    num_classes = len(np.unique(y_train))\n",
        "    class_weights = get_class_weights(y_train, num_classes)\n",
        "    print(f\"Class weights: {class_weights}\")"
      ]
    },
    {
      "cell_type": "code",
      "execution_count": null,
      "metadata": {
        "colab": {
          "background_save": true,
          "base_uri": "https://localhost:8080/"
        },
        "id": "Zq4fkgyisvxl",
        "outputId": "cea30d12-b245-437a-ee0d-097ca07b2892"
      },
      "outputs": [
        {
          "ename": "AttributeError",
          "evalue": "'numpy.ndarray' object has no attribute 'find'",
          "output_type": "error",
          "traceback": [
            "\u001b[0;31m---------------------------------------------------------------------------\u001b[0m",
            "\u001b[0;31mAttributeError\u001b[0m                            Traceback (most recent call last)",
            "\u001b[0;32m<ipython-input-11-b66a25a8fbd1>\u001b[0m in \u001b[0;36m<cell line: 1>\u001b[0;34m()\u001b[0m\n\u001b[0;32m----> 1\u001b[0;31m \u001b[0mprint\u001b[0m\u001b[0;34m(\u001b[0m\u001b[0my_test\u001b[0m\u001b[0;34m.\u001b[0m\u001b[0mfind\u001b[0m\u001b[0;34m(\u001b[0m\u001b[0;34m\"518\"\u001b[0m\u001b[0;34m)\u001b[0m\u001b[0;34m)\u001b[0m\u001b[0;34m\u001b[0m\u001b[0;34m\u001b[0m\u001b[0m\n\u001b[0m\u001b[1;32m      2\u001b[0m \u001b[0mprint\u001b[0m\u001b[0;34m(\u001b[0m\u001b[0mx_test\u001b[0m\u001b[0;34m[\u001b[0m\u001b[0;36m0\u001b[0m\u001b[0;34m]\u001b[0m\u001b[0;34m,\u001b[0m \u001b[0my_test\u001b[0m\u001b[0;34m[\u001b[0m\u001b[0;36m0\u001b[0m\u001b[0;34m]\u001b[0m\u001b[0;34m)\u001b[0m\u001b[0;34m\u001b[0m\u001b[0;34m\u001b[0m\u001b[0m\n",
            "\u001b[0;31mAttributeError\u001b[0m: 'numpy.ndarray' object has no attribute 'find'"
          ]
        }
      ],
      "source": [
        "\n",
        "\n",
        "print(x_test[0], y_test[0])"
      ]
    },
    {
      "cell_type": "code",
      "execution_count": null,
      "metadata": {
        "id": "U6s8l-LP4yb2"
      },
      "outputs": [],
      "source": [
        "import tensorflow as tf\n",
        "from tensorflow.keras.layers import Conv3D, BatchNormalization, Flatten, MultiHeadAttention, Add, LayerNormalization, Dense\n",
        "from tensorflow.keras import layers\n",
        "\n",
        "# Define a custom layer to replace the Lambda layer\n",
        "@tf.keras.utils.register_keras_serializable()\n",
        "class ExpandAxisLayer(layers.Layer):\n",
        "    def __init__(self, axis=1, **kwargs):\n",
        "        super(ExpandAxisLayer, self).__init__(**kwargs)\n",
        "        self.axis = axis\n",
        "\n",
        "    def call(self, inputs):\n",
        "        return tf.expand_dims(inputs, axis=self.axis)\n",
        "\n",
        "    def get_config(self):\n",
        "        config = super(ExpandAxisLayer, self).get_config()\n",
        "        config.update({\"axis\": self.axis})\n",
        "        return config\n",
        "\n",
        "def create_model_conv3d_transformer(input_shape, num_classes, num_heads=8, ff_dim=64):\n",
        "    inputs = tf.keras.Input(shape=input_shape)\n",
        "\n",
        "    # Conv3D to capture spatio-temporal features\n",
        "    x = Conv3D(32, (3, 3, 3), activation='relu', padding='same')(inputs)\n",
        "    x = BatchNormalization()(x)\n",
        "\n",
        "    # Add another Conv3D layer\n",
        "    x = Conv3D(64, (3, 3, 3), activation='relu', padding='same')(x)\n",
        "    x = BatchNormalization()(x)\n",
        "\n",
        "    # Pooling layer to reduce dimensionality\n",
        "    x = GlobalAveragePooling3D()(x)\n",
        "\n",
        "    # Apply custom ExpandAxisLayer instead of Lambda\n",
        "    x = ExpandAxisLayer(axis=1)(x)\n",
        "\n",
        "    # Transformer block (using MultiHeadAttention)\n",
        "    attn_output = MultiHeadAttention(num_heads=num_heads, key_dim=ff_dim)(x, x)\n",
        "    attn_output = Add()([x, attn_output])  # Residual connection\n",
        "    attn_output = LayerNormalization()(attn_output)\n",
        "\n",
        "    # Feed-forward block with residual connection\n",
        "    ff_output = Dense(ff_dim, activation='relu')(attn_output)\n",
        "    ff_output = Add()([attn_output, ff_output])  # Residual connection\n",
        "    ff_output = LayerNormalization()(ff_output)\n",
        "\n",
        "    # Flatten the output before the dense layer for classification\n",
        "    ff_output = Flatten()(ff_output)\n",
        "\n",
        "    # Fully connected layer for classification\n",
        "    x = Dense(128, activation='relu')(ff_output)\n",
        "    outputs = Dense(num_classes, activation='softmax')(x)\n",
        "\n",
        "    # Create and compile the model\n",
        "    model = tf.keras.Model(inputs, outputs)\n",
        "    model.compile(optimizer=keras.optimizers.Adam(learning_rate=1e-4),\n",
        "                  loss='sparse_categorical_crossentropy',\n",
        "                  metrics=['accuracy'])\n",
        "\n",
        "    return model\n"
      ]
    },
    {
      "cell_type": "code",
      "execution_count": null,
      "metadata": {
        "id": "FG2_0TUl7eJF"
      },
      "outputs": [],
      "source": [
        "def data_generator(x_data, y_data, batch_size):\n",
        "    num_samples = len(x_data)\n",
        "    while True:\n",
        "        for offset in range(0, num_samples, batch_size):\n",
        "            batch_x = x_data[offset:offset+batch_size]\n",
        "            batch_y = y_data[offset:offset+batch_size]\n",
        "            yield batch_x, batch_y\n",
        "\n",
        "batch_size = 128\n",
        "\n",
        "# Create training and validation generators\n",
        "train_generator = data_generator(x_train, y_train, batch_size)\n",
        "test_generator = data_generator(x_test, y_test, batch_size)"
      ]
    },
    {
      "cell_type": "code",
      "execution_count": null,
      "metadata": {
        "id": "S-jd8j5h1kAT"
      },
      "outputs": [],
      "source": [
        "class AdjustLearningRateCallback(tf.keras.callbacks.Callback):\n",
        "    def __init__(self, factor=0.7, min_lr=1e-5, threshold=0.4, reset_learning_rate=1e-4):\n",
        "        super(AdjustLearningRateCallback, self).__init__()\n",
        "        self.factor = factor\n",
        "        self.min_lr = min_lr\n",
        "        self.threshold = threshold\n",
        "        self.prev_val_loss = 0\n",
        "        self.loss_change_counter = 0\n",
        "        self.reset_learning_rate = reset_learning_rate\n",
        "\n",
        "    def on_epoch_end(self, epoch, logs=None):\n",
        "        current_train_loss = logs.get('loss')\n",
        "        current_val_loss = logs.get('val_loss')\n",
        "\n",
        "        # Check if the validation loss is higher than training loss by threshold\n",
        "        if current_val_loss > (current_train_loss + self.threshold):\n",
        "            current_lr = float(tf.keras.backend.get_value(self.model.optimizer.learning_rate))  # Corrected learning rate access\n",
        "            new_lr = max(current_lr * self.factor, self.min_lr)\n",
        "            self.model.optimizer.learning_rate = new_lr\n",
        "            print(f\"\\nOverfitting detected at epoch {epoch}. Learning rate adjusted from {current_lr} to {new_lr}\")\n",
        "\n",
        "        # Reset the learning rate\n",
        "        if self.prev_val_loss != 0:\n",
        "          loss_diff = abs(self.prev_val_loss - current_val_loss)\n",
        "\n",
        "          # Checks for loss threashold\n",
        "          if loss_diff < 0.04:\n",
        "            self.loss_change_counter += 1\n",
        "\n",
        "        self.prev_val_loss = current_val_loss\n",
        "\n",
        "        if self.loss_change_counter == 4:\n",
        "          current_lr = float(tf.keras.backend.get_value(self.model.optimizer.learning_rate))  # Corrected learning rate access\n",
        "          self.model.optimizer.learning_rate = self.reset_learning_rate\n",
        "          self.loss_change_counter = 0\n",
        "          print(f\"\\nVal Loss not changing resetting learning rate. Learning rate adjusted from {current_lr} to {self.reset_learning_rate}\")\n",
        "\n"
      ]
    },
    {
      "cell_type": "code",
      "execution_count": null,
      "metadata": {
        "colab": {
          "base_uri": "https://localhost:8080/",
          "height": 926
        },
        "id": "H9t9QKRt7jJZ",
        "outputId": "99142857-b7e1-473b-8e42-c31402d91b16"
      },
      "outputs": [
        {
          "name": "stdout",
          "output_type": "stream",
          "text": [
            "(145, 75, 4, 1)\n"
          ]
        },
        {
          "name": "stderr",
          "output_type": "stream",
          "text": [
            "/usr/local/lib/python3.10/dist-packages/keras/src/ops/nn.py:545: UserWarning: You are using a softmax over axis 3 of a tensor of shape (1, 8, 1, 1). This axis has size 1. The softmax operation will always return the value 1, which is likely not what you intended. Did you mean to use a sigmoid instead?\n",
            "  warnings.warn(\n"
          ]
        },
        {
          "data": {
            "text/html": [
              "<pre style=\"white-space:pre;overflow-x:auto;line-height:normal;font-family:Menlo,'DejaVu Sans Mono',consolas,'Courier New',monospace\"><span style=\"font-weight: bold\">Model: \"functional_8\"</span>\n",
              "</pre>\n"
            ],
            "text/plain": [
              "\u001b[1mModel: \"functional_8\"\u001b[0m\n"
            ]
          },
          "metadata": {},
          "output_type": "display_data"
        },
        {
          "data": {
            "text/html": [
              "<pre style=\"white-space:pre;overflow-x:auto;line-height:normal;font-family:Menlo,'DejaVu Sans Mono',consolas,'Courier New',monospace\">┏━━━━━━━━━━━━━━━━━━━━━━━━━━━┳━━━━━━━━━━━━━━━━━━━━━━━━┳━━━━━━━━━━━━━━━━┳━━━━━━━━━━━━━━━━━━━━━━━━┓\n",
              "┃<span style=\"font-weight: bold\"> Layer (type)              </span>┃<span style=\"font-weight: bold\"> Output Shape           </span>┃<span style=\"font-weight: bold\">        Param # </span>┃<span style=\"font-weight: bold\"> Connected to           </span>┃\n",
              "┡━━━━━━━━━━━━━━━━━━━━━━━━━━━╇━━━━━━━━━━━━━━━━━━━━━━━━╇━━━━━━━━━━━━━━━━╇━━━━━━━━━━━━━━━━━━━━━━━━┩\n",
              "│ input_layer_10            │ (<span style=\"color: #00d7ff; text-decoration-color: #00d7ff\">None</span>, <span style=\"color: #00af00; text-decoration-color: #00af00\">145</span>, <span style=\"color: #00af00; text-decoration-color: #00af00\">75</span>, <span style=\"color: #00af00; text-decoration-color: #00af00\">4</span>, <span style=\"color: #00af00; text-decoration-color: #00af00\">1</span>)  │              <span style=\"color: #00af00; text-decoration-color: #00af00\">0</span> │ -                      │\n",
              "│ (<span style=\"color: #0087ff; text-decoration-color: #0087ff\">InputLayer</span>)              │                        │                │                        │\n",
              "├───────────────────────────┼────────────────────────┼────────────────┼────────────────────────┤\n",
              "│ conv3d_20 (<span style=\"color: #0087ff; text-decoration-color: #0087ff\">Conv3D</span>)        │ (<span style=\"color: #00d7ff; text-decoration-color: #00d7ff\">None</span>, <span style=\"color: #00af00; text-decoration-color: #00af00\">145</span>, <span style=\"color: #00af00; text-decoration-color: #00af00\">75</span>, <span style=\"color: #00af00; text-decoration-color: #00af00\">4</span>, <span style=\"color: #00af00; text-decoration-color: #00af00\">32</span>) │            <span style=\"color: #00af00; text-decoration-color: #00af00\">896</span> │ input_layer_10[<span style=\"color: #00af00; text-decoration-color: #00af00\">0</span>][<span style=\"color: #00af00; text-decoration-color: #00af00\">0</span>]   │\n",
              "├───────────────────────────┼────────────────────────┼────────────────┼────────────────────────┤\n",
              "│ batch_normalization_20    │ (<span style=\"color: #00d7ff; text-decoration-color: #00d7ff\">None</span>, <span style=\"color: #00af00; text-decoration-color: #00af00\">145</span>, <span style=\"color: #00af00; text-decoration-color: #00af00\">75</span>, <span style=\"color: #00af00; text-decoration-color: #00af00\">4</span>, <span style=\"color: #00af00; text-decoration-color: #00af00\">32</span>) │            <span style=\"color: #00af00; text-decoration-color: #00af00\">128</span> │ conv3d_20[<span style=\"color: #00af00; text-decoration-color: #00af00\">0</span>][<span style=\"color: #00af00; text-decoration-color: #00af00\">0</span>]        │\n",
              "│ (<span style=\"color: #0087ff; text-decoration-color: #0087ff\">BatchNormalization</span>)      │                        │                │                        │\n",
              "├───────────────────────────┼────────────────────────┼────────────────┼────────────────────────┤\n",
              "│ conv3d_21 (<span style=\"color: #0087ff; text-decoration-color: #0087ff\">Conv3D</span>)        │ (<span style=\"color: #00d7ff; text-decoration-color: #00d7ff\">None</span>, <span style=\"color: #00af00; text-decoration-color: #00af00\">145</span>, <span style=\"color: #00af00; text-decoration-color: #00af00\">75</span>, <span style=\"color: #00af00; text-decoration-color: #00af00\">4</span>, <span style=\"color: #00af00; text-decoration-color: #00af00\">64</span>) │         <span style=\"color: #00af00; text-decoration-color: #00af00\">55,360</span> │ batch_normalization_2… │\n",
              "├───────────────────────────┼────────────────────────┼────────────────┼────────────────────────┤\n",
              "│ batch_normalization_21    │ (<span style=\"color: #00d7ff; text-decoration-color: #00d7ff\">None</span>, <span style=\"color: #00af00; text-decoration-color: #00af00\">145</span>, <span style=\"color: #00af00; text-decoration-color: #00af00\">75</span>, <span style=\"color: #00af00; text-decoration-color: #00af00\">4</span>, <span style=\"color: #00af00; text-decoration-color: #00af00\">64</span>) │            <span style=\"color: #00af00; text-decoration-color: #00af00\">256</span> │ conv3d_21[<span style=\"color: #00af00; text-decoration-color: #00af00\">0</span>][<span style=\"color: #00af00; text-decoration-color: #00af00\">0</span>]        │\n",
              "│ (<span style=\"color: #0087ff; text-decoration-color: #0087ff\">BatchNormalization</span>)      │                        │                │                        │\n",
              "├───────────────────────────┼────────────────────────┼────────────────┼────────────────────────┤\n",
              "│ global_average_pooling3d… │ (<span style=\"color: #00d7ff; text-decoration-color: #00d7ff\">None</span>, <span style=\"color: #00af00; text-decoration-color: #00af00\">64</span>)             │              <span style=\"color: #00af00; text-decoration-color: #00af00\">0</span> │ batch_normalization_2… │\n",
              "│ (<span style=\"color: #0087ff; text-decoration-color: #0087ff\">GlobalAveragePooling3D</span>)  │                        │                │                        │\n",
              "├───────────────────────────┼────────────────────────┼────────────────┼────────────────────────┤\n",
              "│ expand_axis_layer_7       │ (<span style=\"color: #00d7ff; text-decoration-color: #00d7ff\">None</span>, <span style=\"color: #00af00; text-decoration-color: #00af00\">1</span>, <span style=\"color: #00af00; text-decoration-color: #00af00\">64</span>)          │              <span style=\"color: #00af00; text-decoration-color: #00af00\">0</span> │ global_average_poolin… │\n",
              "│ (<span style=\"color: #0087ff; text-decoration-color: #0087ff\">ExpandAxisLayer</span>)         │                        │                │                        │\n",
              "├───────────────────────────┼────────────────────────┼────────────────┼────────────────────────┤\n",
              "│ multi_head_attention_10   │ (<span style=\"color: #00d7ff; text-decoration-color: #00d7ff\">None</span>, <span style=\"color: #00af00; text-decoration-color: #00af00\">1</span>, <span style=\"color: #00af00; text-decoration-color: #00af00\">64</span>)          │        <span style=\"color: #00af00; text-decoration-color: #00af00\">132,672</span> │ expand_axis_layer_7[<span style=\"color: #00af00; text-decoration-color: #00af00\">0</span>… │\n",
              "│ (<span style=\"color: #0087ff; text-decoration-color: #0087ff\">MultiHeadAttention</span>)      │                        │                │ expand_axis_layer_7[<span style=\"color: #00af00; text-decoration-color: #00af00\">0</span>… │\n",
              "├───────────────────────────┼────────────────────────┼────────────────┼────────────────────────┤\n",
              "│ add_16 (<span style=\"color: #0087ff; text-decoration-color: #0087ff\">Add</span>)              │ (<span style=\"color: #00d7ff; text-decoration-color: #00d7ff\">None</span>, <span style=\"color: #00af00; text-decoration-color: #00af00\">1</span>, <span style=\"color: #00af00; text-decoration-color: #00af00\">64</span>)          │              <span style=\"color: #00af00; text-decoration-color: #00af00\">0</span> │ expand_axis_layer_7[<span style=\"color: #00af00; text-decoration-color: #00af00\">0</span>… │\n",
              "│                           │                        │                │ multi_head_attention_… │\n",
              "├───────────────────────────┼────────────────────────┼────────────────┼────────────────────────┤\n",
              "│ layer_normalization_16    │ (<span style=\"color: #00d7ff; text-decoration-color: #00d7ff\">None</span>, <span style=\"color: #00af00; text-decoration-color: #00af00\">1</span>, <span style=\"color: #00af00; text-decoration-color: #00af00\">64</span>)          │            <span style=\"color: #00af00; text-decoration-color: #00af00\">128</span> │ add_16[<span style=\"color: #00af00; text-decoration-color: #00af00\">0</span>][<span style=\"color: #00af00; text-decoration-color: #00af00\">0</span>]           │\n",
              "│ (<span style=\"color: #0087ff; text-decoration-color: #0087ff\">LayerNormalization</span>)      │                        │                │                        │\n",
              "├───────────────────────────┼────────────────────────┼────────────────┼────────────────────────┤\n",
              "│ dense_24 (<span style=\"color: #0087ff; text-decoration-color: #0087ff\">Dense</span>)          │ (<span style=\"color: #00d7ff; text-decoration-color: #00d7ff\">None</span>, <span style=\"color: #00af00; text-decoration-color: #00af00\">1</span>, <span style=\"color: #00af00; text-decoration-color: #00af00\">64</span>)          │          <span style=\"color: #00af00; text-decoration-color: #00af00\">4,160</span> │ layer_normalization_1… │\n",
              "├───────────────────────────┼────────────────────────┼────────────────┼────────────────────────┤\n",
              "│ add_17 (<span style=\"color: #0087ff; text-decoration-color: #0087ff\">Add</span>)              │ (<span style=\"color: #00d7ff; text-decoration-color: #00d7ff\">None</span>, <span style=\"color: #00af00; text-decoration-color: #00af00\">1</span>, <span style=\"color: #00af00; text-decoration-color: #00af00\">64</span>)          │              <span style=\"color: #00af00; text-decoration-color: #00af00\">0</span> │ layer_normalization_1… │\n",
              "│                           │                        │                │ dense_24[<span style=\"color: #00af00; text-decoration-color: #00af00\">0</span>][<span style=\"color: #00af00; text-decoration-color: #00af00\">0</span>]         │\n",
              "├───────────────────────────┼────────────────────────┼────────────────┼────────────────────────┤\n",
              "│ layer_normalization_17    │ (<span style=\"color: #00d7ff; text-decoration-color: #00d7ff\">None</span>, <span style=\"color: #00af00; text-decoration-color: #00af00\">1</span>, <span style=\"color: #00af00; text-decoration-color: #00af00\">64</span>)          │            <span style=\"color: #00af00; text-decoration-color: #00af00\">128</span> │ add_17[<span style=\"color: #00af00; text-decoration-color: #00af00\">0</span>][<span style=\"color: #00af00; text-decoration-color: #00af00\">0</span>]           │\n",
              "│ (<span style=\"color: #0087ff; text-decoration-color: #0087ff\">LayerNormalization</span>)      │                        │                │                        │\n",
              "├───────────────────────────┼────────────────────────┼────────────────┼────────────────────────┤\n",
              "│ flatten_10 (<span style=\"color: #0087ff; text-decoration-color: #0087ff\">Flatten</span>)      │ (<span style=\"color: #00d7ff; text-decoration-color: #00d7ff\">None</span>, <span style=\"color: #00af00; text-decoration-color: #00af00\">64</span>)             │              <span style=\"color: #00af00; text-decoration-color: #00af00\">0</span> │ layer_normalization_1… │\n",
              "├───────────────────────────┼────────────────────────┼────────────────┼────────────────────────┤\n",
              "│ dense_25 (<span style=\"color: #0087ff; text-decoration-color: #0087ff\">Dense</span>)          │ (<span style=\"color: #00d7ff; text-decoration-color: #00d7ff\">None</span>, <span style=\"color: #00af00; text-decoration-color: #00af00\">128</span>)            │          <span style=\"color: #00af00; text-decoration-color: #00af00\">8,320</span> │ flatten_10[<span style=\"color: #00af00; text-decoration-color: #00af00\">0</span>][<span style=\"color: #00af00; text-decoration-color: #00af00\">0</span>]       │\n",
              "├───────────────────────────┼────────────────────────┼────────────────┼────────────────────────┤\n",
              "│ dense_26 (<span style=\"color: #0087ff; text-decoration-color: #0087ff\">Dense</span>)          │ (<span style=\"color: #00d7ff; text-decoration-color: #00d7ff\">None</span>, <span style=\"color: #00af00; text-decoration-color: #00af00\">735</span>)            │         <span style=\"color: #00af00; text-decoration-color: #00af00\">94,815</span> │ dense_25[<span style=\"color: #00af00; text-decoration-color: #00af00\">0</span>][<span style=\"color: #00af00; text-decoration-color: #00af00\">0</span>]         │\n",
              "└───────────────────────────┴────────────────────────┴────────────────┴────────────────────────┘\n",
              "</pre>\n"
            ],
            "text/plain": [
              "┏━━━━━━━━━━━━━━━━━━━━━━━━━━━┳━━━━━━━━━━━━━━━━━━━━━━━━┳━━━━━━━━━━━━━━━━┳━━━━━━━━━━━━━━━━━━━━━━━━┓\n",
              "┃\u001b[1m \u001b[0m\u001b[1mLayer (type)             \u001b[0m\u001b[1m \u001b[0m┃\u001b[1m \u001b[0m\u001b[1mOutput Shape          \u001b[0m\u001b[1m \u001b[0m┃\u001b[1m \u001b[0m\u001b[1m       Param #\u001b[0m\u001b[1m \u001b[0m┃\u001b[1m \u001b[0m\u001b[1mConnected to          \u001b[0m\u001b[1m \u001b[0m┃\n",
              "┡━━━━━━━━━━━━━━━━━━━━━━━━━━━╇━━━━━━━━━━━━━━━━━━━━━━━━╇━━━━━━━━━━━━━━━━╇━━━━━━━━━━━━━━━━━━━━━━━━┩\n",
              "│ input_layer_10            │ (\u001b[38;5;45mNone\u001b[0m, \u001b[38;5;34m145\u001b[0m, \u001b[38;5;34m75\u001b[0m, \u001b[38;5;34m4\u001b[0m, \u001b[38;5;34m1\u001b[0m)  │              \u001b[38;5;34m0\u001b[0m │ -                      │\n",
              "│ (\u001b[38;5;33mInputLayer\u001b[0m)              │                        │                │                        │\n",
              "├───────────────────────────┼────────────────────────┼────────────────┼────────────────────────┤\n",
              "│ conv3d_20 (\u001b[38;5;33mConv3D\u001b[0m)        │ (\u001b[38;5;45mNone\u001b[0m, \u001b[38;5;34m145\u001b[0m, \u001b[38;5;34m75\u001b[0m, \u001b[38;5;34m4\u001b[0m, \u001b[38;5;34m32\u001b[0m) │            \u001b[38;5;34m896\u001b[0m │ input_layer_10[\u001b[38;5;34m0\u001b[0m][\u001b[38;5;34m0\u001b[0m]   │\n",
              "├───────────────────────────┼────────────────────────┼────────────────┼────────────────────────┤\n",
              "│ batch_normalization_20    │ (\u001b[38;5;45mNone\u001b[0m, \u001b[38;5;34m145\u001b[0m, \u001b[38;5;34m75\u001b[0m, \u001b[38;5;34m4\u001b[0m, \u001b[38;5;34m32\u001b[0m) │            \u001b[38;5;34m128\u001b[0m │ conv3d_20[\u001b[38;5;34m0\u001b[0m][\u001b[38;5;34m0\u001b[0m]        │\n",
              "│ (\u001b[38;5;33mBatchNormalization\u001b[0m)      │                        │                │                        │\n",
              "├───────────────────────────┼────────────────────────┼────────────────┼────────────────────────┤\n",
              "│ conv3d_21 (\u001b[38;5;33mConv3D\u001b[0m)        │ (\u001b[38;5;45mNone\u001b[0m, \u001b[38;5;34m145\u001b[0m, \u001b[38;5;34m75\u001b[0m, \u001b[38;5;34m4\u001b[0m, \u001b[38;5;34m64\u001b[0m) │         \u001b[38;5;34m55,360\u001b[0m │ batch_normalization_2… │\n",
              "├───────────────────────────┼────────────────────────┼────────────────┼────────────────────────┤\n",
              "│ batch_normalization_21    │ (\u001b[38;5;45mNone\u001b[0m, \u001b[38;5;34m145\u001b[0m, \u001b[38;5;34m75\u001b[0m, \u001b[38;5;34m4\u001b[0m, \u001b[38;5;34m64\u001b[0m) │            \u001b[38;5;34m256\u001b[0m │ conv3d_21[\u001b[38;5;34m0\u001b[0m][\u001b[38;5;34m0\u001b[0m]        │\n",
              "│ (\u001b[38;5;33mBatchNormalization\u001b[0m)      │                        │                │                        │\n",
              "├───────────────────────────┼────────────────────────┼────────────────┼────────────────────────┤\n",
              "│ global_average_pooling3d… │ (\u001b[38;5;45mNone\u001b[0m, \u001b[38;5;34m64\u001b[0m)             │              \u001b[38;5;34m0\u001b[0m │ batch_normalization_2… │\n",
              "│ (\u001b[38;5;33mGlobalAveragePooling3D\u001b[0m)  │                        │                │                        │\n",
              "├───────────────────────────┼────────────────────────┼────────────────┼────────────────────────┤\n",
              "│ expand_axis_layer_7       │ (\u001b[38;5;45mNone\u001b[0m, \u001b[38;5;34m1\u001b[0m, \u001b[38;5;34m64\u001b[0m)          │              \u001b[38;5;34m0\u001b[0m │ global_average_poolin… │\n",
              "│ (\u001b[38;5;33mExpandAxisLayer\u001b[0m)         │                        │                │                        │\n",
              "├───────────────────────────┼────────────────────────┼────────────────┼────────────────────────┤\n",
              "│ multi_head_attention_10   │ (\u001b[38;5;45mNone\u001b[0m, \u001b[38;5;34m1\u001b[0m, \u001b[38;5;34m64\u001b[0m)          │        \u001b[38;5;34m132,672\u001b[0m │ expand_axis_layer_7[\u001b[38;5;34m0\u001b[0m… │\n",
              "│ (\u001b[38;5;33mMultiHeadAttention\u001b[0m)      │                        │                │ expand_axis_layer_7[\u001b[38;5;34m0\u001b[0m… │\n",
              "├───────────────────────────┼────────────────────────┼────────────────┼────────────────────────┤\n",
              "│ add_16 (\u001b[38;5;33mAdd\u001b[0m)              │ (\u001b[38;5;45mNone\u001b[0m, \u001b[38;5;34m1\u001b[0m, \u001b[38;5;34m64\u001b[0m)          │              \u001b[38;5;34m0\u001b[0m │ expand_axis_layer_7[\u001b[38;5;34m0\u001b[0m… │\n",
              "│                           │                        │                │ multi_head_attention_… │\n",
              "├───────────────────────────┼────────────────────────┼────────────────┼────────────────────────┤\n",
              "│ layer_normalization_16    │ (\u001b[38;5;45mNone\u001b[0m, \u001b[38;5;34m1\u001b[0m, \u001b[38;5;34m64\u001b[0m)          │            \u001b[38;5;34m128\u001b[0m │ add_16[\u001b[38;5;34m0\u001b[0m][\u001b[38;5;34m0\u001b[0m]           │\n",
              "│ (\u001b[38;5;33mLayerNormalization\u001b[0m)      │                        │                │                        │\n",
              "├───────────────────────────┼────────────────────────┼────────────────┼────────────────────────┤\n",
              "│ dense_24 (\u001b[38;5;33mDense\u001b[0m)          │ (\u001b[38;5;45mNone\u001b[0m, \u001b[38;5;34m1\u001b[0m, \u001b[38;5;34m64\u001b[0m)          │          \u001b[38;5;34m4,160\u001b[0m │ layer_normalization_1… │\n",
              "├───────────────────────────┼────────────────────────┼────────────────┼────────────────────────┤\n",
              "│ add_17 (\u001b[38;5;33mAdd\u001b[0m)              │ (\u001b[38;5;45mNone\u001b[0m, \u001b[38;5;34m1\u001b[0m, \u001b[38;5;34m64\u001b[0m)          │              \u001b[38;5;34m0\u001b[0m │ layer_normalization_1… │\n",
              "│                           │                        │                │ dense_24[\u001b[38;5;34m0\u001b[0m][\u001b[38;5;34m0\u001b[0m]         │\n",
              "├───────────────────────────┼────────────────────────┼────────────────┼────────────────────────┤\n",
              "│ layer_normalization_17    │ (\u001b[38;5;45mNone\u001b[0m, \u001b[38;5;34m1\u001b[0m, \u001b[38;5;34m64\u001b[0m)          │            \u001b[38;5;34m128\u001b[0m │ add_17[\u001b[38;5;34m0\u001b[0m][\u001b[38;5;34m0\u001b[0m]           │\n",
              "│ (\u001b[38;5;33mLayerNormalization\u001b[0m)      │                        │                │                        │\n",
              "├───────────────────────────┼────────────────────────┼────────────────┼────────────────────────┤\n",
              "│ flatten_10 (\u001b[38;5;33mFlatten\u001b[0m)      │ (\u001b[38;5;45mNone\u001b[0m, \u001b[38;5;34m64\u001b[0m)             │              \u001b[38;5;34m0\u001b[0m │ layer_normalization_1… │\n",
              "├───────────────────────────┼────────────────────────┼────────────────┼────────────────────────┤\n",
              "│ dense_25 (\u001b[38;5;33mDense\u001b[0m)          │ (\u001b[38;5;45mNone\u001b[0m, \u001b[38;5;34m128\u001b[0m)            │          \u001b[38;5;34m8,320\u001b[0m │ flatten_10[\u001b[38;5;34m0\u001b[0m][\u001b[38;5;34m0\u001b[0m]       │\n",
              "├───────────────────────────┼────────────────────────┼────────────────┼────────────────────────┤\n",
              "│ dense_26 (\u001b[38;5;33mDense\u001b[0m)          │ (\u001b[38;5;45mNone\u001b[0m, \u001b[38;5;34m735\u001b[0m)            │         \u001b[38;5;34m94,815\u001b[0m │ dense_25[\u001b[38;5;34m0\u001b[0m][\u001b[38;5;34m0\u001b[0m]         │\n",
              "└───────────────────────────┴────────────────────────┴────────────────┴────────────────────────┘\n"
            ]
          },
          "metadata": {},
          "output_type": "display_data"
        },
        {
          "data": {
            "text/html": [
              "<pre style=\"white-space:pre;overflow-x:auto;line-height:normal;font-family:Menlo,'DejaVu Sans Mono',consolas,'Courier New',monospace\"><span style=\"font-weight: bold\"> Total params: </span><span style=\"color: #00af00; text-decoration-color: #00af00\">890,207</span> (3.40 MB)\n",
              "</pre>\n"
            ],
            "text/plain": [
              "\u001b[1m Total params: \u001b[0m\u001b[38;5;34m890,207\u001b[0m (3.40 MB)\n"
            ]
          },
          "metadata": {},
          "output_type": "display_data"
        },
        {
          "data": {
            "text/html": [
              "<pre style=\"white-space:pre;overflow-x:auto;line-height:normal;font-family:Menlo,'DejaVu Sans Mono',consolas,'Courier New',monospace\"><span style=\"font-weight: bold\"> Trainable params: </span><span style=\"color: #00af00; text-decoration-color: #00af00\">296,671</span> (1.13 MB)\n",
              "</pre>\n"
            ],
            "text/plain": [
              "\u001b[1m Trainable params: \u001b[0m\u001b[38;5;34m296,671\u001b[0m (1.13 MB)\n"
            ]
          },
          "metadata": {},
          "output_type": "display_data"
        },
        {
          "data": {
            "text/html": [
              "<pre style=\"white-space:pre;overflow-x:auto;line-height:normal;font-family:Menlo,'DejaVu Sans Mono',consolas,'Courier New',monospace\"><span style=\"font-weight: bold\"> Non-trainable params: </span><span style=\"color: #00af00; text-decoration-color: #00af00\">192</span> (768.00 B)\n",
              "</pre>\n"
            ],
            "text/plain": [
              "\u001b[1m Non-trainable params: \u001b[0m\u001b[38;5;34m192\u001b[0m (768.00 B)\n"
            ]
          },
          "metadata": {},
          "output_type": "display_data"
        },
        {
          "data": {
            "text/html": [
              "<pre style=\"white-space:pre;overflow-x:auto;line-height:normal;font-family:Menlo,'DejaVu Sans Mono',consolas,'Courier New',monospace\"><span style=\"font-weight: bold\"> Optimizer params: </span><span style=\"color: #00af00; text-decoration-color: #00af00\">593,344</span> (2.26 MB)\n",
              "</pre>\n"
            ],
            "text/plain": [
              "\u001b[1m Optimizer params: \u001b[0m\u001b[38;5;34m593,344\u001b[0m (2.26 MB)\n"
            ]
          },
          "metadata": {},
          "output_type": "display_data"
        }
      ],
      "source": [
        "# Get the input shape based on your data\n",
        "input_shape = (xData_padded.shape[1], xData_padded.shape[2], 4, 1)\n",
        "print(input_shape)\n",
        "\n",
        "# Create the model\n",
        "model_path = '/content/gdrive/MyDrive/Auslan App/Model/Checkpoints/loaded_bananamode_AAAAAAAAAAAAAAAAAAAAAAAAaa.keras'\n",
        "if model_path == \"\":\n",
        "  model = create_model_conv3d_transformer(input_shape, num_classes)\n",
        "else:\n",
        "  model = load_model(filepath=model_path)\n",
        "\n",
        "# model.summary()\n",
        "dummy_input = np.random.random((1, *input_shape))  # Dummy input with shape (1, 145, 75, 4, 1)\n",
        "model(dummy_input)  # Call the model to build it\n",
        "\n",
        "# Now call model.summary() to see the architecture\n",
        "model.summary()"
      ]
    },
    {
      "cell_type": "code",
      "execution_count": null,
      "metadata": {
        "colab": {
          "base_uri": "https://localhost:8080/"
        },
        "id": "-Mtev3eU9LpO",
        "outputId": "6ae16c9a-3106-4e9a-83ea-b667644b9c4d"
      },
      "outputs": [
        {
          "name": "stdout",
          "output_type": "stream",
          "text": [
            "Epoch 1/20\n",
            "\u001b[1m109/109\u001b[0m \u001b[32m━━━━━━━━━━━━━━━━━━━━\u001b[0m\u001b[37m\u001b[0m \u001b[1m0s\u001b[0m 815ms/step - accuracy: 0.5002 - loss: 2.3268\n",
            "Epoch 1: val_accuracy improved from -inf to 0.30667, saving model to /content/gdrive/MyDrive/Auslan App/Model/Checkpoints/loaded_bananamode_AAAAAAAAAAAAAAAAAAAAAAAAaa.keras\n",
            "\n",
            "Overfitting detected at epoch 0. Learning rate adjusted from 4.8999994760379195e-05 to 3.4299996332265434e-05\n",
            "\u001b[1m109/109\u001b[0m \u001b[32m━━━━━━━━━━━━━━━━━━━━\u001b[0m\u001b[37m\u001b[0m \u001b[1m99s\u001b[0m 907ms/step - accuracy: 0.5002 - loss: 2.3268 - val_accuracy: 0.3067 - val_loss: 3.4066\n",
            "Epoch 2/20\n",
            "\u001b[1m109/109\u001b[0m \u001b[32m━━━━━━━━━━━━━━━━━━━━\u001b[0m\u001b[37m\u001b[0m \u001b[1m0s\u001b[0m 854ms/step - accuracy: 0.5121 - loss: 2.2910\n",
            "Epoch 2: val_accuracy improved from 0.30667 to 0.33185, saving model to /content/gdrive/MyDrive/Auslan App/Model/Checkpoints/loaded_bananamode_AAAAAAAAAAAAAAAAAAAAAAAAaa.keras\n",
            "\n",
            "Overfitting detected at epoch 1. Learning rate adjusted from 3.4299995604669675e-05 to 2.400999692326877e-05\n",
            "\u001b[1m109/109\u001b[0m \u001b[32m━━━━━━━━━━━━━━━━━━━━\u001b[0m\u001b[37m\u001b[0m \u001b[1m103s\u001b[0m 944ms/step - accuracy: 0.5121 - loss: 2.2911 - val_accuracy: 0.3319 - val_loss: 3.3176\n",
            "Epoch 3/20\n",
            "\u001b[1m109/109\u001b[0m \u001b[32m━━━━━━━━━━━━━━━━━━━━\u001b[0m\u001b[37m\u001b[0m \u001b[1m0s\u001b[0m 851ms/step - accuracy: 0.5168 - loss: 2.2621\n",
            "Epoch 3: val_accuracy improved from 0.33185 to 0.33956, saving model to /content/gdrive/MyDrive/Auslan App/Model/Checkpoints/loaded_bananamode_AAAAAAAAAAAAAAAAAAAAAAAAaa.keras\n",
            "\n",
            "Overfitting detected at epoch 2. Learning rate adjusted from 2.400999619567301e-05 to 1.6806997336971108e-05\n",
            "\u001b[1m109/109\u001b[0m \u001b[32m━━━━━━━━━━━━━━━━━━━━\u001b[0m\u001b[37m\u001b[0m \u001b[1m103s\u001b[0m 941ms/step - accuracy: 0.5168 - loss: 2.2622 - val_accuracy: 0.3396 - val_loss: 3.2730\n",
            "Epoch 4/20\n",
            "\u001b[1m109/109\u001b[0m \u001b[32m━━━━━━━━━━━━━━━━━━━━\u001b[0m\u001b[37m\u001b[0m \u001b[1m0s\u001b[0m 849ms/step - accuracy: 0.5215 - loss: 2.2431\n",
            "Epoch 4: val_accuracy improved from 0.33956 to 0.34963, saving model to /content/gdrive/MyDrive/Auslan App/Model/Checkpoints/loaded_bananamode_AAAAAAAAAAAAAAAAAAAAAAAAaa.keras\n",
            "\n",
            "Overfitting detected at epoch 3. Learning rate adjusted from 1.6806996427476406e-05 to 1.1764897499233484e-05\n",
            "\u001b[1m109/109\u001b[0m \u001b[32m━━━━━━━━━━━━━━━━━━━━\u001b[0m\u001b[37m\u001b[0m \u001b[1m102s\u001b[0m 939ms/step - accuracy: 0.5215 - loss: 2.2432 - val_accuracy: 0.3496 - val_loss: 3.2025\n",
            "Epoch 5/20\n",
            "\u001b[1m109/109\u001b[0m \u001b[32m━━━━━━━━━━━━━━━━━━━━\u001b[0m\u001b[37m\u001b[0m \u001b[1m0s\u001b[0m 852ms/step - accuracy: 0.5225 - loss: 2.2404\n",
            "Epoch 5: val_accuracy improved from 0.34963 to 0.37956, saving model to /content/gdrive/MyDrive/Auslan App/Model/Checkpoints/loaded_bananamode_AAAAAAAAAAAAAAAAAAAAAAAAaa.keras\n",
            "\n",
            "Overfitting detected at epoch 4. Learning rate adjusted from 1.1764897863031365e-05 to 1e-05\n",
            "\u001b[1m109/109\u001b[0m \u001b[32m━━━━━━━━━━━━━━━━━━━━\u001b[0m\u001b[37m\u001b[0m \u001b[1m103s\u001b[0m 942ms/step - accuracy: 0.5225 - loss: 2.2403 - val_accuracy: 0.3796 - val_loss: 3.0635\n",
            "Epoch 6/20\n",
            "\u001b[1m109/109\u001b[0m \u001b[32m━━━━━━━━━━━━━━━━━━━━\u001b[0m\u001b[37m\u001b[0m \u001b[1m0s\u001b[0m 851ms/step - accuracy: 0.5244 - loss: 2.2364\n",
            "Epoch 6: val_accuracy improved from 0.37956 to 0.38311, saving model to /content/gdrive/MyDrive/Auslan App/Model/Checkpoints/loaded_bananamode_AAAAAAAAAAAAAAAAAAAAAAAAaa.keras\n",
            "\n",
            "Overfitting detected at epoch 5. Learning rate adjusted from 9.999999747378752e-06 to 1e-05\n",
            "\u001b[1m109/109\u001b[0m \u001b[32m━━━━━━━━━━━━━━━━━━━━\u001b[0m\u001b[37m\u001b[0m \u001b[1m102s\u001b[0m 941ms/step - accuracy: 0.5244 - loss: 2.2363 - val_accuracy: 0.3831 - val_loss: 3.0487\n",
            "Epoch 7/20\n",
            "\u001b[1m109/109\u001b[0m \u001b[32m━━━━━━━━━━━━━━━━━━━━\u001b[0m\u001b[37m\u001b[0m \u001b[1m0s\u001b[0m 851ms/step - accuracy: 0.5309 - loss: 2.2219\n",
            "Epoch 7: val_accuracy improved from 0.38311 to 0.38459, saving model to /content/gdrive/MyDrive/Auslan App/Model/Checkpoints/loaded_bananamode_AAAAAAAAAAAAAAAAAAAAAAAAaa.keras\n",
            "\n",
            "Overfitting detected at epoch 6. Learning rate adjusted from 9.999999747378752e-06 to 1e-05\n",
            "\u001b[1m109/109\u001b[0m \u001b[32m━━━━━━━━━━━━━━━━━━━━\u001b[0m\u001b[37m\u001b[0m \u001b[1m102s\u001b[0m 941ms/step - accuracy: 0.5309 - loss: 2.2220 - val_accuracy: 0.3846 - val_loss: 3.0586\n",
            "Epoch 8/20\n",
            "\u001b[1m109/109\u001b[0m \u001b[32m━━━━━━━━━━━━━━━━━━━━\u001b[0m\u001b[37m\u001b[0m \u001b[1m0s\u001b[0m 852ms/step - accuracy: 0.5319 - loss: 2.2086\n",
            "Epoch 8: val_accuracy did not improve from 0.38459\n",
            "\n",
            "Overfitting detected at epoch 7. Learning rate adjusted from 9.999999747378752e-06 to 1e-05\n",
            "\u001b[1m109/109\u001b[0m \u001b[32m━━━━━━━━━━━━━━━━━━━━\u001b[0m\u001b[37m\u001b[0m \u001b[1m102s\u001b[0m 940ms/step - accuracy: 0.5319 - loss: 2.2087 - val_accuracy: 0.3819 - val_loss: 3.0844\n",
            "Epoch 9/20\n",
            "\u001b[1m109/109\u001b[0m \u001b[32m━━━━━━━━━━━━━━━━━━━━\u001b[0m\u001b[37m\u001b[0m \u001b[1m0s\u001b[0m 852ms/step - accuracy: 0.5346 - loss: 2.2076\n",
            "Epoch 9: val_accuracy did not improve from 0.38459\n",
            "\n",
            "Overfitting detected at epoch 8. Learning rate adjusted from 9.999999747378752e-06 to 1e-05\n",
            "\n",
            "Val Loss not changing resetting learning rate. Learning rate adjusted from 9.999999747378752e-06 to 0.0001\n",
            "\u001b[1m109/109\u001b[0m \u001b[32m━━━━━━━━━━━━━━━━━━━━\u001b[0m\u001b[37m\u001b[0m \u001b[1m102s\u001b[0m 940ms/step - accuracy: 0.5345 - loss: 2.2077 - val_accuracy: 0.3819 - val_loss: 3.0760\n",
            "Epoch 10/20\n",
            "\u001b[1m109/109\u001b[0m \u001b[32m━━━━━━━━━━━━━━━━━━━━\u001b[0m\u001b[37m\u001b[0m \u001b[1m0s\u001b[0m 851ms/step - accuracy: 0.5080 - loss: 2.3063\n",
            "Epoch 10: val_accuracy did not improve from 0.38459\n",
            "\n",
            "Overfitting detected at epoch 9. Learning rate adjusted from 9.999999747378752e-05 to 6.999999823165126e-05\n",
            "\u001b[1m109/109\u001b[0m \u001b[32m━━━━━━━━━━━━━━━━━━━━\u001b[0m\u001b[37m\u001b[0m \u001b[1m102s\u001b[0m 940ms/step - accuracy: 0.5080 - loss: 2.3066 - val_accuracy: 0.2308 - val_loss: 4.0294\n",
            "Epoch 11/20\n",
            "\u001b[1m109/109\u001b[0m \u001b[32m━━━━━━━━━━━━━━━━━━━━\u001b[0m\u001b[37m\u001b[0m \u001b[1m0s\u001b[0m 851ms/step - accuracy: 0.5114 - loss: 2.2642\n",
            "Epoch 11: val_accuracy did not improve from 0.38459\n",
            "\n",
            "Overfitting detected at epoch 10. Learning rate adjusted from 6.999999459367245e-05 to 4.899999621557071e-05\n",
            "\u001b[1m109/109\u001b[0m \u001b[32m━━━━━━━━━━━━━━━━━━━━\u001b[0m\u001b[37m\u001b[0m \u001b[1m102s\u001b[0m 940ms/step - accuracy: 0.5114 - loss: 2.2642 - val_accuracy: 0.3253 - val_loss: 3.3259\n",
            "Epoch 12/20\n",
            "\u001b[1m109/109\u001b[0m \u001b[32m━━━━━━━━━━━━━━━━━━━━\u001b[0m\u001b[37m\u001b[0m \u001b[1m0s\u001b[0m 852ms/step - accuracy: 0.5275 - loss: 2.2108\n",
            "Epoch 12: val_accuracy did not improve from 0.38459\n",
            "\n",
            "Overfitting detected at epoch 11. Learning rate adjusted from 4.8999994760379195e-05 to 3.4299996332265434e-05\n",
            "\u001b[1m109/109\u001b[0m \u001b[32m━━━━━━━━━━━━━━━━━━━━\u001b[0m\u001b[37m\u001b[0m \u001b[1m103s\u001b[0m 942ms/step - accuracy: 0.5274 - loss: 2.2110 - val_accuracy: 0.3321 - val_loss: 3.2730\n",
            "Epoch 13/20\n",
            "\u001b[1m109/109\u001b[0m \u001b[32m━━━━━━━━━━━━━━━━━━━━\u001b[0m\u001b[37m\u001b[0m \u001b[1m0s\u001b[0m 851ms/step - accuracy: 0.5324 - loss: 2.1953\n",
            "Epoch 13: val_accuracy did not improve from 0.38459\n",
            "\n",
            "Overfitting detected at epoch 12. Learning rate adjusted from 3.4299995604669675e-05 to 2.400999692326877e-05\n",
            "\u001b[1m109/109\u001b[0m \u001b[32m━━━━━━━━━━━━━━━━━━━━\u001b[0m\u001b[37m\u001b[0m \u001b[1m102s\u001b[0m 939ms/step - accuracy: 0.5323 - loss: 2.1952 - val_accuracy: 0.3505 - val_loss: 3.1815\n",
            "Epoch 14/20\n",
            "\u001b[1m109/109\u001b[0m \u001b[32m━━━━━━━━━━━━━━━━━━━━\u001b[0m\u001b[37m\u001b[0m \u001b[1m0s\u001b[0m 851ms/step - accuracy: 0.5388 - loss: 2.1669\n",
            "Epoch 14: val_accuracy did not improve from 0.38459\n",
            "\n",
            "Overfitting detected at epoch 13. Learning rate adjusted from 2.400999619567301e-05 to 1.6806997336971108e-05\n",
            "\u001b[1m109/109\u001b[0m \u001b[32m━━━━━━━━━━━━━━━━━━━━\u001b[0m\u001b[37m\u001b[0m \u001b[1m102s\u001b[0m 940ms/step - accuracy: 0.5388 - loss: 2.1669 - val_accuracy: 0.3603 - val_loss: 3.1474\n",
            "Epoch 15/20\n",
            "\u001b[1m109/109\u001b[0m \u001b[32m━━━━━━━━━━━━━━━━━━━━\u001b[0m\u001b[37m\u001b[0m \u001b[1m0s\u001b[0m 851ms/step - accuracy: 0.5383 - loss: 2.1609\n",
            "Epoch 15: val_accuracy did not improve from 0.38459\n",
            "\n",
            "Overfitting detected at epoch 14. Learning rate adjusted from 1.6806996427476406e-05 to 1.1764897499233484e-05\n",
            "\u001b[1m109/109\u001b[0m \u001b[32m━━━━━━━━━━━━━━━━━━━━\u001b[0m\u001b[37m\u001b[0m \u001b[1m102s\u001b[0m 939ms/step - accuracy: 0.5384 - loss: 2.1608 - val_accuracy: 0.3606 - val_loss: 3.2153\n",
            "Epoch 16/20\n",
            "\u001b[1m109/109\u001b[0m \u001b[32m━━━━━━━━━━━━━━━━━━━━\u001b[0m\u001b[37m\u001b[0m \u001b[1m0s\u001b[0m 854ms/step - accuracy: 0.5424 - loss: 2.1495\n",
            "Epoch 16: val_accuracy did not improve from 0.38459\n",
            "\n",
            "Overfitting detected at epoch 15. Learning rate adjusted from 1.1764897863031365e-05 to 1e-05\n",
            "\u001b[1m109/109\u001b[0m \u001b[32m━━━━━━━━━━━━━━━━━━━━\u001b[0m\u001b[37m\u001b[0m \u001b[1m103s\u001b[0m 943ms/step - accuracy: 0.5424 - loss: 2.1494 - val_accuracy: 0.3633 - val_loss: 3.1503\n",
            "Epoch 17/20\n",
            "\u001b[1m109/109\u001b[0m \u001b[32m━━━━━━━━━━━━━━━━━━━━\u001b[0m\u001b[37m\u001b[0m \u001b[1m0s\u001b[0m 851ms/step - accuracy: 0.5457 - loss: 2.1349\n",
            "Epoch 17: val_accuracy did not improve from 0.38459\n",
            "\n",
            "Overfitting detected at epoch 16. Learning rate adjusted from 9.999999747378752e-06 to 1e-05\n",
            "\u001b[1m109/109\u001b[0m \u001b[32m━━━━━━━━━━━━━━━━━━━━\u001b[0m\u001b[37m\u001b[0m \u001b[1m102s\u001b[0m 939ms/step - accuracy: 0.5457 - loss: 2.1348 - val_accuracy: 0.3600 - val_loss: 3.1394\n",
            "Epoch 18/20\n",
            "\u001b[1m109/109\u001b[0m \u001b[32m━━━━━━━━━━━━━━━━━━━━\u001b[0m\u001b[37m\u001b[0m \u001b[1m0s\u001b[0m 852ms/step - accuracy: 0.5457 - loss: 2.1321\n",
            "Epoch 18: val_accuracy did not improve from 0.38459\n",
            "\n",
            "Overfitting detected at epoch 17. Learning rate adjusted from 9.999999747378752e-06 to 1e-05\n",
            "\u001b[1m109/109\u001b[0m \u001b[32m━━━━━━━━━━━━━━━━━━━━\u001b[0m\u001b[37m\u001b[0m \u001b[1m102s\u001b[0m 941ms/step - accuracy: 0.5458 - loss: 2.1320 - val_accuracy: 0.3532 - val_loss: 3.1698\n",
            "Epoch 19/20\n",
            "\u001b[1m109/109\u001b[0m \u001b[32m━━━━━━━━━━━━━━━━━━━━\u001b[0m\u001b[37m\u001b[0m \u001b[1m0s\u001b[0m 852ms/step - accuracy: 0.5490 - loss: 2.1246\n",
            "Epoch 19: val_accuracy did not improve from 0.38459\n",
            "\n",
            "Overfitting detected at epoch 18. Learning rate adjusted from 9.999999747378752e-06 to 1e-05\n",
            "\n",
            "Val Loss not changing resetting learning rate. Learning rate adjusted from 9.999999747378752e-06 to 0.0001\n",
            "\u001b[1m109/109\u001b[0m \u001b[32m━━━━━━━━━━━━━━━━━━━━\u001b[0m\u001b[37m\u001b[0m \u001b[1m103s\u001b[0m 942ms/step - accuracy: 0.5490 - loss: 2.1245 - val_accuracy: 0.3492 - val_loss: 3.1995\n",
            "Epoch 20/20\n",
            "\u001b[1m109/109\u001b[0m \u001b[32m━━━━━━━━━━━━━━━━━━━━\u001b[0m\u001b[37m\u001b[0m \u001b[1m0s\u001b[0m 850ms/step - accuracy: 0.5181 - loss: 2.2491\n",
            "Epoch 20: val_accuracy did not improve from 0.38459\n",
            "\n",
            "Overfitting detected at epoch 19. Learning rate adjusted from 9.999999747378752e-05 to 6.999999823165126e-05\n",
            "\u001b[1m109/109\u001b[0m \u001b[32m━━━━━━━━━━━━━━━━━━━━\u001b[0m\u001b[37m\u001b[0m \u001b[1m102s\u001b[0m 938ms/step - accuracy: 0.5181 - loss: 2.2490 - val_accuracy: 0.2003 - val_loss: 4.3223\n"
          ]
        }
      ],
      "source": [
        "model_checkpoint = ModelCheckpoint(\n",
        "    filepath = '/content/gdrive/MyDrive/Auslan App/Model/Checkpoints/loaded_bananamode_AAAAAAAAAAAAAAAAAAAAAAAAaa.keras',\n",
        "    monitor = 'val_accuracy',\n",
        "    save_best_only = True,\n",
        "    verbose = 1\n",
        ")\n",
        "\n",
        "# lr change\n",
        "reduce_lr = AdjustLearningRateCallback()\n",
        "\n",
        "history = model.fit(\n",
        "    train_generator,\n",
        "    steps_per_epoch=len(x_train) // batch_size,  # Total steps per epoch\n",
        "    validation_data=test_generator,\n",
        "    validation_steps=len(x_test) // batch_size,  # Total steps for validation\n",
        "    epochs=20,\n",
        "    verbose=1,\n",
        "    callbacks=[model_checkpoint, reduce_lr]\n",
        ")"
      ]
    },
    {
      "cell_type": "code",
      "execution_count": null,
      "metadata": {
        "colab": {
          "base_uri": "https://localhost:8080/"
        },
        "id": "gglehDsc79c-",
        "outputId": "9a3a993e-54c6-44e2-f736-27a620b281c2"
      },
      "outputs": [
        {
          "name": "stdout",
          "output_type": "stream",
          "text": [
            "\u001b[1m27/27\u001b[0m \u001b[32m━━━━━━━━━━━━━━━━━━━━\u001b[0m\u001b[37m\u001b[0m \u001b[1m10s\u001b[0m 364ms/step - accuracy: 0.1945 - loss: 4.3408\n",
            "Test Loss: 4.322335243225098\n",
            "Test Accuracy: 0.2002962976694107\n"
          ]
        }
      ],
      "source": [
        " # Step 1: Evaluate the model on the test data\n",
        "loss, accuracy = model.evaluate(test_generator, steps=len(x_test) // batch_size)\n",
        "print(f\"Test Loss: {loss}\")\n",
        "print(f\"Test Accuracy: {accuracy}\")"
      ]
    },
    {
      "cell_type": "code",
      "execution_count": null,
      "metadata": {
        "colab": {
          "base_uri": "https://localhost:8080/",
          "height": 564
        },
        "id": "-olUEubZ8Piq",
        "outputId": "a383061a-0609-4959-e7d6-e593b40f3945"
      },
      "outputs": [
        {
          "data": {
            "image/png": "[encoded data removed]",
            "text/plain": [
              "<Figure size 1200x600 with 2 Axes>"
            ]
          },
          "metadata": {},
          "output_type": "display_data"
        }
      ],
      "source": [
        "#Step 2: Plot training & validation loss and accuracy\n",
        "# Plot training & validation loss\n",
        "plt.figure(figsize=(12, 6))\n",
        "\n",
        "# Subplot 1: Loss\n",
        "plt.subplot(1, 2, 1)\n",
        "plt.plot(history.history['loss'], color='r')\n",
        "plt.plot(history.history['val_loss'], color='b')\n",
        "plt.title('Model Loss')\n",
        "plt.xlabel('Epoch')\n",
        "plt.ylabel('Loss')\n",
        "plt.legend(['Train', 'Validation'], loc='upper right')\n",
        "\n",
        "# Subplot 2: Accuracy\n",
        "plt.subplot(1, 2, 2)\n",
        "plt.plot(history.history['accuracy'], color='r')\n",
        "plt.plot(history.history['val_accuracy'], color='b')\n",
        "plt.title('Model Accuracy')\n",
        "plt.xlabel('Epoch')\n",
        "plt.ylabel('Accuracy')\n",
        "plt.legend(['Train', 'Validation'], loc='upper left')\n",
        "\n",
        "plt.show()"
      ]
    },
    {
      "cell_type": "code",
      "execution_count": null,
      "metadata": {
        "colab": {
          "base_uri": "https://localhost:8080/",
          "height": 446
        },
        "id": "5ktUH2VF8SMG",
        "outputId": "367270d9-459d-4865-f247-6f4dae37c78c"
      },
      "outputs": [
        {
          "name": "stderr",
          "output_type": "stream",
          "text": [
            "/usr/local/lib/python3.10/dist-packages/keras/src/ops/nn.py:545: UserWarning: You are using a softmax over axis 3 of a tensor of shape (64, 8, 1, 1). This axis has size 1. The softmax operation will always return the value 1, which is likely not what you intended. Did you mean to use a sigmoid instead?\n",
            "  warnings.warn(\n"
          ]
        },
        {
          "name": "stdout",
          "output_type": "stream",
          "text": [
            "\u001b[1m54/54\u001b[0m \u001b[32m━━━━━━━━━━━━━━━━━━━━\u001b[0m\u001b[37m\u001b[0m \u001b[1m11s\u001b[0m 184ms/step\n",
            "3503 3439\n"
          ]
        },
        {
          "ename": "ValueError",
          "evalue": "Found input variables with inconsistent numbers of samples: [3503, 3439]",
          "output_type": "error",
          "traceback": [
            "\u001b[0;31m---------------------------------------------------------------------------\u001b[0m",
            "\u001b[0;31mValueError\u001b[0m                                Traceback (most recent call last)",
            "\u001b[0;32m<ipython-input-16-16f7d3eb0d86>\u001b[0m in \u001b[0;36m<cell line: 19>\u001b[0;34m()\u001b[0m\n\u001b[1;32m     17\u001b[0m \u001b[0;34m\u001b[0m\u001b[0m\n\u001b[1;32m     18\u001b[0m \u001b[0;31m# Compute the confusion matrix\u001b[0m\u001b[0;34m\u001b[0m\u001b[0;34m\u001b[0m\u001b[0m\n\u001b[0;32m---> 19\u001b[0;31m \u001b[0mcm\u001b[0m \u001b[0;34m=\u001b[0m \u001b[0mconfusion_matrix\u001b[0m\u001b[0;34m(\u001b[0m\u001b[0my_true\u001b[0m\u001b[0;34m,\u001b[0m \u001b[0my_pred_classes\u001b[0m\u001b[0;34m)\u001b[0m\u001b[0;34m\u001b[0m\u001b[0;34m\u001b[0m\u001b[0m\n\u001b[0m\u001b[1;32m     20\u001b[0m \u001b[0;34m\u001b[0m\u001b[0m\n\u001b[1;32m     21\u001b[0m \u001b[0;31m# Load the label-to-class index mapping from the JSON file\u001b[0m\u001b[0;34m\u001b[0m\u001b[0;34m\u001b[0m\u001b[0m\n",
            "\u001b[0;32m/usr/local/lib/python3.10/dist-packages/sklearn/utils/_param_validation.py\u001b[0m in \u001b[0;36mwrapper\u001b[0;34m(*args, **kwargs)\u001b[0m\n\u001b[1;32m    211\u001b[0m                     )\n\u001b[1;32m    212\u001b[0m                 ):\n\u001b[0;32m--> 213\u001b[0;31m                     \u001b[0;32mreturn\u001b[0m \u001b[0mfunc\u001b[0m\u001b[0;34m(\u001b[0m\u001b[0;34m*\u001b[0m\u001b[0margs\u001b[0m\u001b[0;34m,\u001b[0m \u001b[0;34m**\u001b[0m\u001b[0mkwargs\u001b[0m\u001b[0;34m)\u001b[0m\u001b[0;34m\u001b[0m\u001b[0;34m\u001b[0m\u001b[0m\n\u001b[0m\u001b[1;32m    214\u001b[0m             \u001b[0;32mexcept\u001b[0m \u001b[0mInvalidParameterError\u001b[0m \u001b[0;32mas\u001b[0m \u001b[0me\u001b[0m\u001b[0;34m:\u001b[0m\u001b[0;34m\u001b[0m\u001b[0;34m\u001b[0m\u001b[0m\n\u001b[1;32m    215\u001b[0m                 \u001b[0;31m# When the function is just a wrapper around an estimator, we allow\u001b[0m\u001b[0;34m\u001b[0m\u001b[0;34m\u001b[0m\u001b[0m\n",
            "\u001b[0;32m/usr/local/lib/python3.10/dist-packages/sklearn/metrics/_classification.py\u001b[0m in \u001b[0;36mconfusion_matrix\u001b[0;34m(y_true, y_pred, labels, sample_weight, normalize)\u001b[0m\n\u001b[1;32m    340\u001b[0m     \u001b[0;34m(\u001b[0m\u001b[0mnp\u001b[0m\u001b[0;34m.\u001b[0m\u001b[0mint64\u001b[0m\u001b[0;34m(\u001b[0m\u001b[0;36m0\u001b[0m\u001b[0;34m)\u001b[0m\u001b[0;34m,\u001b[0m \u001b[0mnp\u001b[0m\u001b[0;34m.\u001b[0m\u001b[0mint64\u001b[0m\u001b[0;34m(\u001b[0m\u001b[0;36m2\u001b[0m\u001b[0;34m)\u001b[0m\u001b[0;34m,\u001b[0m \u001b[0mnp\u001b[0m\u001b[0;34m.\u001b[0m\u001b[0mint64\u001b[0m\u001b[0;34m(\u001b[0m\u001b[0;36m1\u001b[0m\u001b[0;34m)\u001b[0m\u001b[0;34m,\u001b[0m \u001b[0mnp\u001b[0m\u001b[0;34m.\u001b[0m\u001b[0mint64\u001b[0m\u001b[0;34m(\u001b[0m\u001b[0;36m1\u001b[0m\u001b[0;34m)\u001b[0m\u001b[0;34m)\u001b[0m\u001b[0;34m\u001b[0m\u001b[0;34m\u001b[0m\u001b[0m\n\u001b[1;32m    341\u001b[0m     \"\"\"\n\u001b[0;32m--> 342\u001b[0;31m     \u001b[0my_type\u001b[0m\u001b[0;34m,\u001b[0m \u001b[0my_true\u001b[0m\u001b[0;34m,\u001b[0m \u001b[0my_pred\u001b[0m \u001b[0;34m=\u001b[0m \u001b[0m_check_targets\u001b[0m\u001b[0;34m(\u001b[0m\u001b[0my_true\u001b[0m\u001b[0;34m,\u001b[0m \u001b[0my_pred\u001b[0m\u001b[0;34m)\u001b[0m\u001b[0;34m\u001b[0m\u001b[0;34m\u001b[0m\u001b[0m\n\u001b[0m\u001b[1;32m    343\u001b[0m     \u001b[0;32mif\u001b[0m \u001b[0my_type\u001b[0m \u001b[0;32mnot\u001b[0m \u001b[0;32min\u001b[0m \u001b[0;34m(\u001b[0m\u001b[0;34m\"binary\"\u001b[0m\u001b[0;34m,\u001b[0m \u001b[0;34m\"multiclass\"\u001b[0m\u001b[0;34m)\u001b[0m\u001b[0;34m:\u001b[0m\u001b[0;34m\u001b[0m\u001b[0;34m\u001b[0m\u001b[0m\n\u001b[1;32m    344\u001b[0m         \u001b[0;32mraise\u001b[0m \u001b[0mValueError\u001b[0m\u001b[0;34m(\u001b[0m\u001b[0;34m\"%s is not supported\"\u001b[0m \u001b[0;34m%\u001b[0m \u001b[0my_type\u001b[0m\u001b[0;34m)\u001b[0m\u001b[0;34m\u001b[0m\u001b[0;34m\u001b[0m\u001b[0m\n",
            "\u001b[0;32m/usr/local/lib/python3.10/dist-packages/sklearn/metrics/_classification.py\u001b[0m in \u001b[0;36m_check_targets\u001b[0;34m(y_true, y_pred)\u001b[0m\n\u001b[1;32m    101\u001b[0m     \"\"\"\n\u001b[1;32m    102\u001b[0m     \u001b[0mxp\u001b[0m\u001b[0;34m,\u001b[0m \u001b[0m_\u001b[0m \u001b[0;34m=\u001b[0m \u001b[0mget_namespace\u001b[0m\u001b[0;34m(\u001b[0m\u001b[0my_true\u001b[0m\u001b[0;34m,\u001b[0m \u001b[0my_pred\u001b[0m\u001b[0;34m)\u001b[0m\u001b[0;34m\u001b[0m\u001b[0;34m\u001b[0m\u001b[0m\n\u001b[0;32m--> 103\u001b[0;31m     \u001b[0mcheck_consistent_length\u001b[0m\u001b[0;34m(\u001b[0m\u001b[0my_true\u001b[0m\u001b[0;34m,\u001b[0m \u001b[0my_pred\u001b[0m\u001b[0;34m)\u001b[0m\u001b[0;34m\u001b[0m\u001b[0;34m\u001b[0m\u001b[0m\n\u001b[0m\u001b[1;32m    104\u001b[0m     \u001b[0mtype_true\u001b[0m \u001b[0;34m=\u001b[0m \u001b[0mtype_of_target\u001b[0m\u001b[0;34m(\u001b[0m\u001b[0my_true\u001b[0m\u001b[0;34m,\u001b[0m \u001b[0minput_name\u001b[0m\u001b[0;34m=\u001b[0m\u001b[0;34m\"y_true\"\u001b[0m\u001b[0;34m)\u001b[0m\u001b[0;34m\u001b[0m\u001b[0;34m\u001b[0m\u001b[0m\n\u001b[1;32m    105\u001b[0m     \u001b[0mtype_pred\u001b[0m \u001b[0;34m=\u001b[0m \u001b[0mtype_of_target\u001b[0m\u001b[0;34m(\u001b[0m\u001b[0my_pred\u001b[0m\u001b[0;34m,\u001b[0m \u001b[0minput_name\u001b[0m\u001b[0;34m=\u001b[0m\u001b[0;34m\"y_pred\"\u001b[0m\u001b[0;34m)\u001b[0m\u001b[0;34m\u001b[0m\u001b[0;34m\u001b[0m\u001b[0m\n",
            "\u001b[0;32m/usr/local/lib/python3.10/dist-packages/sklearn/utils/validation.py\u001b[0m in \u001b[0;36mcheck_consistent_length\u001b[0;34m(*arrays)\u001b[0m\n\u001b[1;32m    455\u001b[0m     \u001b[0muniques\u001b[0m \u001b[0;34m=\u001b[0m \u001b[0mnp\u001b[0m\u001b[0;34m.\u001b[0m\u001b[0munique\u001b[0m\u001b[0;34m(\u001b[0m\u001b[0mlengths\u001b[0m\u001b[0;34m)\u001b[0m\u001b[0;34m\u001b[0m\u001b[0;34m\u001b[0m\u001b[0m\n\u001b[1;32m    456\u001b[0m     \u001b[0;32mif\u001b[0m \u001b[0mlen\u001b[0m\u001b[0;34m(\u001b[0m\u001b[0muniques\u001b[0m\u001b[0;34m)\u001b[0m \u001b[0;34m>\u001b[0m \u001b[0;36m1\u001b[0m\u001b[0;34m:\u001b[0m\u001b[0;34m\u001b[0m\u001b[0;34m\u001b[0m\u001b[0m\n\u001b[0;32m--> 457\u001b[0;31m         raise ValueError(\n\u001b[0m\u001b[1;32m    458\u001b[0m             \u001b[0;34m\"Found input variables with inconsistent numbers of samples: %r\"\u001b[0m\u001b[0;34m\u001b[0m\u001b[0;34m\u001b[0m\u001b[0m\n\u001b[1;32m    459\u001b[0m             \u001b[0;34m%\u001b[0m \u001b[0;34m[\u001b[0m\u001b[0mint\u001b[0m\u001b[0;34m(\u001b[0m\u001b[0ml\u001b[0m\u001b[0;34m)\u001b[0m \u001b[0;32mfor\u001b[0m \u001b[0ml\u001b[0m \u001b[0;32min\u001b[0m \u001b[0mlengths\u001b[0m\u001b[0;34m]\u001b[0m\u001b[0;34m\u001b[0m\u001b[0;34m\u001b[0m\u001b[0m\n",
            "\u001b[0;31mValueError\u001b[0m: Found input variables with inconsistent numbers of samples: [3503, 3439]"
          ]
        }
      ],
      "source": [
        "# Step 3: Predict the test data\n",
        "# Use the test generator to get predictions\n",
        "y_pred = model.predict(test_generator, steps=len(x_test) // batch_size)\n",
        "y_pred_classes = np.argmax(y_pred, axis=1)  # Get the predicted class indices\n",
        "\n",
        "# Step 4: Prepare true labels\n",
        "# If y_test is already in integer form, use it directly.\n",
        "# If y_test is one-hot encoded, convert it to class indices.\n",
        "# Uncomment the appropriate line based on your data format:\n",
        "y_true = y_test  # If y_test is already in integer form\n",
        "#y_true = np.array(y_test)  # Ensure y_test is in a NumPy array if it was a list\n",
        "\n",
        "# If y_test is one-hot encoded, uncomment the next line:\n",
        "# y_true = np.argmax(y_test, axis=1)\n",
        "\n",
        "print(len(y_true), len(y_pred_classes))\n",
        "\n",
        "# Compute the confusion matrix\n",
        "cm = confusion_matrix(y_true, y_pred_classes)\n",
        "\n",
        "# Load the label-to-class index mapping from the JSON file\n",
        "with open('label_to_class_index.json', 'r') as f:\n",
        "    label_to_class_index = json.load(f)\n",
        "\n",
        "# Print the loaded mapping to verify (optional)\n",
        "# print(label_to_class_index)\n",
        "\n",
        "# Prepare words for plotting confusion matrix\n",
        "words = [label for label, index in label_to_class_index.items()]\n",
        "\n",
        "# Plot the confusion matrix\n",
        "plt.figure(figsize=(8, 6))\n",
        "sns.heatmap(cm, annot=True, fmt='d', cmap='Blues', xticklabels=words, yticklabels=words)\n",
        "plt.title('Confusion Matrix')\n",
        "plt.xlabel('Predicted Label')\n",
        "plt.ylabel('True Label')\n",
        "plt.show()"
      ]
    },
    {
      "cell_type": "code",
      "execution_count": null,
      "metadata": {
        "id": "nLfQdahAR_CQ"
      },
      "outputs": [],
      "source": []
    }
  ],
  "metadata": {
    "accelerator": "GPU",
    "colab": {
      "gpuType": "T4",
      "provenance": [],
      "include_colab_link": true
    },
    "kernelspec": {
      "display_name": "Python 3",
      "name": "python3"
    },
    "language_info": {
      "name": "python"
    }
  },
  "nbformat": 4,
  "nbformat_minor": 0
}